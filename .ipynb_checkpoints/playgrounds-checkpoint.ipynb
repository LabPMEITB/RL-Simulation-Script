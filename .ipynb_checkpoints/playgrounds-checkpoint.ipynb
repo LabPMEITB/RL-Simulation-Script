{
 "cells": [
  {
   "cell_type": "code",
   "execution_count": 9,
   "id": "2953e554",
   "metadata": {},
   "outputs": [],
   "source": [
    "import os\n",
    "import numpy as np\n",
    "from IPython.display import SVG\n",
    "from lib import support as fn\n",
    "from lib import mazeSVG"
   ]
  },
  {
   "cell_type": "code",
   "execution_count": null,
   "id": "dc03c62a",
   "metadata": {},
   "outputs": [],
   "source": []
  },
  {
   "cell_type": "code",
   "execution_count": 26,
   "id": "18db0835",
   "metadata": {},
   "outputs": [],
   "source": [
    "n_title = 5\n",
    "n_data = 2\n",
    "\n",
    "main_list = []\n",
    "\n",
    "for i in range(n_title):\n",
    "    sub_list = []\n",
    "    sub_list.append(f'title{i}')\n",
    "    subsub_list = []\n",
    "    for j in range(n_data):\n",
    "        line = f'subtitle{j}',f'data{j}'\n",
    "        subsub_list.append(line)\n",
    "    sub_list.append(subsub_list)\n",
    "    main_list.append(sub_list)"
   ]
  },
  {
   "cell_type": "code",
   "execution_count": 27,
   "id": "28a5285f",
   "metadata": {},
   "outputs": [
    {
     "data": {
      "text/plain": [
       "[['title0', ['data0', 'data1']],\n",
       " ['title1', ['data0', 'data1']],\n",
       " ['title2', ['data0', 'data1']],\n",
       " ['title3', ['data0', 'data1']],\n",
       " ['title4', ['data0', 'data1']]]"
      ]
     },
     "execution_count": 27,
     "metadata": {},
     "output_type": "execute_result"
    }
   ],
   "source": [
    "main_list"
   ]
  },
  {
   "cell_type": "code",
   "execution_count": 28,
   "id": "df217f87",
   "metadata": {},
   "outputs": [
    {
     "name": "stdout",
     "output_type": "stream",
     "text": [
      "File \"test.txt generated.\n"
     ]
    }
   ],
   "source": [
    "fn.write_result_summary('test.txt', main_list, quiet = False)"
   ]
  },
  {
   "cell_type": "code",
   "execution_count": null,
   "id": "390b7573",
   "metadata": {},
   "outputs": [],
   "source": []
  }
 ],
 "metadata": {
  "kernelspec": {
   "display_name": "Python 3 (ipykernel)",
   "language": "python",
   "name": "python3"
  },
  "language_info": {
   "codemirror_mode": {
    "name": "ipython",
    "version": 3
   },
   "file_extension": ".py",
   "mimetype": "text/x-python",
   "name": "python",
   "nbconvert_exporter": "python",
   "pygments_lexer": "ipython3",
   "version": "3.10.0"
  },
  "vscode": {
   "interpreter": {
    "hash": "cfbecc6b7b02738b8f46f7104a81cce25d19a20dda612d7992deb4b3b8dee98d"
   }
  }
 },
 "nbformat": 4,
 "nbformat_minor": 5
}
