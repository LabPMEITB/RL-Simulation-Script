{
 "cells": [
  {
   "cell_type": "code",
   "execution_count": 18,
   "id": "2953e554",
   "metadata": {},
   "outputs": [],
   "source": [
    "## Import libraries\n",
    "import os\n",
    "# import random\n",
    "# import math\n",
    "from IPython.display import SVG\n",
    "import numpy as np\n",
    "# import itertools\n",
    "\n",
    "## Import custom\n",
    "from lib import qLearning as ql\n",
    "from lib import support as fn\n",
    "from lib import mazeSVG"
   ]
  },
  {
   "cell_type": "code",
   "execution_count": 19,
   "id": "656a274b",
   "metadata": {},
   "outputs": [
    {
     "name": "stdout",
     "output_type": "stream",
     "text": [
      "File 'maze_config' exist in '.'\n",
      "File 'temp' exist in '.'\n"
     ]
    }
   ],
   "source": [
    "## Define main directories\n",
    "config_dir = 'maze_config'\n",
    "temp_dir = 'temp'\n",
    "c_dir = '.'\n",
    "# c_dir = os.getcwd()\n",
    "\n",
    "## Generate paths\n",
    "## Path to maze config files\n",
    "config_path = fn.gen_path(c_dir, config_dir)\n",
    "\n",
    "## Path to experimental results folder\n",
    "temp_path = fn.gen_path(c_dir, temp_dir)"
   ]
  },
  {
   "cell_type": "code",
   "execution_count": 20,
   "id": "3a2bfa24",
   "metadata": {},
   "outputs": [],
   "source": [
    "# ## Select maze config file\n",
    "# mazeConfig_file = fn.select_maze(config_path)\n",
    "\n",
    "# ## Read maze config file\n",
    "# maze_config = fn.load_mazeConfig(config_path, mazeConfig_file)\n",
    "\n",
    "# ## Pass content of maze_config\n",
    "# maze_x = maze_config[0]\n",
    "# maze_y = maze_config[1]\n",
    "# total_state = maze_config[2]\n",
    "# total_act = maze_config[3]\n",
    "# ns_list = maze_config[4]\n",
    "# rt_list = maze_config[5]\n",
    "\n",
    "# ## Display Maze\n",
    "# # blank_maze = os.path.join(temp_path, 'blank_maze.svg')\n",
    "# # blank_maze = os.path.join('temp', 'blank_maze.svg')\n",
    "# blank_maze = 'temp/temp.svg'\n",
    "# mSVG = mazeSVG.drawMaze(maze_x, maze_y, ns_list)\n",
    "# mSVG.gen_svg(blank_maze)\n",
    "# display(SVG(blank_maze))"
   ]
  },
  {
   "cell_type": "code",
   "execution_count": 21,
   "id": "43380960",
   "metadata": {},
   "outputs": [],
   "source": [
    "def scan_maze(mazeDir):\n",
    "    \"\"\"\n",
    "    Scan all available maze config files\n",
    "    \"\"\"\n",
    "    # Print intial status\n",
    "    print(f'Scanning Maze Config File...')\n",
    "    # Get list of maze config available in the folder\n",
    "    mazeFiles = os.listdir(mazeDir)\n",
    "\n",
    "    # Sort file\n",
    "    mazeFiles.sort()\n",
    "    \n",
    "    # Filter files to individual and set conviguration lists\n",
    "    mazeConfigList = []\n",
    "    setConfigList = []\n",
    "    for file in mazeFiles:\n",
    "        extension = os.path.splitext(file)[1]\n",
    "        if (extension == \".txt\"):\n",
    "            mazeConfigList.append(file)\n",
    "        else:\n",
    "            setConfigList.append(file)\n",
    "\n",
    "    # Print scan results\n",
    "    print(\"\\t%d maze config file(s) found.\"% len(mazeConfigList))\n",
    "    print(\"\\t%d maze config set(s) found.\"% len(setConfigList))\n",
    "    print('Scanning finished.')\n",
    "\n",
    "    return mazeFiles"
   ]
  },
  {
   "cell_type": "code",
   "execution_count": 22,
   "id": "e3f79cb6",
   "metadata": {},
   "outputs": [
    {
     "name": "stdout",
     "output_type": "stream",
     "text": [
      "Scanning Maze Config File...\n",
      "\t8 maze config file(s) found.\n",
      "\t1 maze config set(s) found.\n",
      "Scanning finished.\n"
     ]
    }
   ],
   "source": [
    "mazeConfig_list = scan_maze(config_path)"
   ]
  },
  {
   "cell_type": "code",
   "execution_count": 32,
   "id": "39e33b93",
   "metadata": {},
   "outputs": [],
   "source": [
    "def select_maze(mazeDir):\n",
    "    # Scan maze config files\n",
    "    mazeConfigs = scan_maze(mazeDir)\n",
    "    \n",
    "    # Check if config files exist\n",
    "    if len(mazeConfig_list)==0:\n",
    "        print('No available config file.')\n",
    "        return None\n",
    "    else:\n",
    "        # Print all available configs\n",
    "        print('List of available maze configs:')\n",
    "        for config in mazeConfigs:\n",
    "            idx = mazeConfigs.index(config) + 1\n",
    "#             print(\"%d) %s\"% (idx, config))\n",
    "            print(f'\\t{idx}) {config}')\n",
    "            \n",
    "        # Request user to select maze config\n",
    "        print('Please choose maze configuration file!')\n",
    "        loop = True\n",
    "        while(loop):\n",
    "            idx = int(input('\\tInput Select Index (1-%d) : '%(len(mazeConfig_list))))-1\n",
    "            if ((0 <= idx) and (idx < len(mazeConfig_list))):\n",
    "                loop = False\n",
    "                selected_mazeConfig = mazeConfig_list[idx]\n",
    "                print(\"\\tSelected '%s'\"% selected_mazeConfig)\n",
    "            else:\n",
    "                print('\\tInput out of range. Please try again.')\n",
    "        return selected_mazeConfig"
   ]
  },
  {
   "cell_type": "code",
   "execution_count": 33,
   "id": "8001c03f",
   "metadata": {},
   "outputs": [
    {
     "name": "stdout",
     "output_type": "stream",
     "text": [
      "Scanning Maze Config File...\n",
      "\t8 maze config file(s) found.\n",
      "\t1 maze config set(s) found.\n",
      "Scanning finished.\n",
      "List of available maze configs:\n",
      "\t1) 22083010X10c4.txt\n",
      "\t2) 22100605X05c0.txt\n",
      "\t3) 22100605X05c1.txt\n",
      "\t4) 22100605X05c2.txt\n",
      "\t5) 22100605X05c3.txt\n",
      "\t6) 22100605X05c4.txt\n",
      "\t7) 22113040X40c0.txt\n",
      "\t8) 22113040X40c1.txt\n",
      "\t9) 230116_set0\n",
      "Please choose maze configuration file!\n",
      "\tInput Select Index (1-9) : 10\n",
      "\tInput out of range. Please try again.\n",
      "\tInput Select Index (1-9) : 0\n",
      "\tInput out of range. Please try again.\n",
      "\tInput Select Index (1-9) : a\n"
     ]
    },
    {
     "ename": "ValueError",
     "evalue": "invalid literal for int() with base 10: 'a'",
     "output_type": "error",
     "traceback": [
      "\u001b[0;31m---------------------------------------------------------------------------\u001b[0m",
      "\u001b[0;31mValueError\u001b[0m                                Traceback (most recent call last)",
      "\u001b[0;32m/tmp/ipykernel_10133/3171008361.py\u001b[0m in \u001b[0;36m<module>\u001b[0;34m\u001b[0m\n\u001b[0;32m----> 1\u001b[0;31m \u001b[0mselectedConfig\u001b[0m \u001b[0;34m=\u001b[0m \u001b[0mselect_maze\u001b[0m\u001b[0;34m(\u001b[0m\u001b[0mconfig_path\u001b[0m\u001b[0;34m)\u001b[0m\u001b[0;34m\u001b[0m\u001b[0;34m\u001b[0m\u001b[0m\n\u001b[0m",
      "\u001b[0;32m/tmp/ipykernel_10133/4082934235.py\u001b[0m in \u001b[0;36mselect_maze\u001b[0;34m(mazeDir)\u001b[0m\n\u001b[1;32m     19\u001b[0m         \u001b[0mloop\u001b[0m \u001b[0;34m=\u001b[0m \u001b[0;32mTrue\u001b[0m\u001b[0;34m\u001b[0m\u001b[0;34m\u001b[0m\u001b[0m\n\u001b[1;32m     20\u001b[0m         \u001b[0;32mwhile\u001b[0m\u001b[0;34m(\u001b[0m\u001b[0mloop\u001b[0m\u001b[0;34m)\u001b[0m\u001b[0;34m:\u001b[0m\u001b[0;34m\u001b[0m\u001b[0;34m\u001b[0m\u001b[0m\n\u001b[0;32m---> 21\u001b[0;31m             \u001b[0midx\u001b[0m \u001b[0;34m=\u001b[0m \u001b[0mint\u001b[0m\u001b[0;34m(\u001b[0m\u001b[0minput\u001b[0m\u001b[0;34m(\u001b[0m\u001b[0;34m'\\tInput Select Index (1-%d) : '\u001b[0m\u001b[0;34m%\u001b[0m\u001b[0;34m(\u001b[0m\u001b[0mlen\u001b[0m\u001b[0;34m(\u001b[0m\u001b[0mmazeConfig_list\u001b[0m\u001b[0;34m)\u001b[0m\u001b[0;34m)\u001b[0m\u001b[0;34m)\u001b[0m\u001b[0;34m)\u001b[0m\u001b[0;34m-\u001b[0m\u001b[0;36m1\u001b[0m\u001b[0;34m\u001b[0m\u001b[0;34m\u001b[0m\u001b[0m\n\u001b[0m\u001b[1;32m     22\u001b[0m             \u001b[0;32mif\u001b[0m \u001b[0;34m(\u001b[0m\u001b[0;34m(\u001b[0m\u001b[0;36m0\u001b[0m \u001b[0;34m<=\u001b[0m \u001b[0midx\u001b[0m\u001b[0;34m)\u001b[0m \u001b[0;32mand\u001b[0m \u001b[0;34m(\u001b[0m\u001b[0midx\u001b[0m \u001b[0;34m<\u001b[0m \u001b[0mlen\u001b[0m\u001b[0;34m(\u001b[0m\u001b[0mmazeConfig_list\u001b[0m\u001b[0;34m)\u001b[0m\u001b[0;34m)\u001b[0m\u001b[0;34m)\u001b[0m\u001b[0;34m:\u001b[0m\u001b[0;34m\u001b[0m\u001b[0;34m\u001b[0m\u001b[0m\n\u001b[1;32m     23\u001b[0m                 \u001b[0mloop\u001b[0m \u001b[0;34m=\u001b[0m \u001b[0;32mFalse\u001b[0m\u001b[0;34m\u001b[0m\u001b[0;34m\u001b[0m\u001b[0m\n",
      "\u001b[0;31mValueError\u001b[0m: invalid literal for int() with base 10: 'a'"
     ]
    }
   ],
   "source": [
    "selectedConfig = select_maze(config_path)"
   ]
  },
  {
   "cell_type": "code",
   "execution_count": 60,
   "id": "7c6d8d58",
   "metadata": {},
   "outputs": [],
   "source": [
    "def get_config_data(configFile, TAB = ''):\n",
    "    \"\"\"\n",
    "    Read and separate data from config file to a list.\n",
    "    \"\"\"\n",
    "    # Read Maze config file\n",
    "    with open(configFile, 'r') as f:\n",
    "        print(f'{TAB}Loading \"{configFile}\"...')\n",
    "        lines = f.readlines()\n",
    "        totalLine = len(lines)\n",
    "        print(f'{TAB}\\tFile consists of {totalLine} lines of data.')\n",
    "        f.close()\n",
    "        \n",
    "    # Load Maze Size\n",
    "    mazeX = int(lines[0])\n",
    "    mazeY = int(lines[1])\n",
    "    totalState = mazeX * mazeY\n",
    "    print(f'{TAB}\\tMaze size loaded. {mazeX}X{mazeY} ({totalState} states)')\n",
    "\n",
    "    # Load total action\n",
    "    totalAct = int(lines[2])\n",
    "    print(f'{TAB}\\tNumber of action loaded. There are {totalAct} actions')\n",
    "\n",
    "    # Load Next State list\n",
    "    NSList = [[0] * totalAct for i in range(totalState)]\n",
    "    for i in range(totalState):\n",
    "        x = lines[3+i].split(';')\n",
    "        x.remove('\\n')\n",
    "        for j in range(totalAct):\n",
    "            NSList[i][j] = int(x[j])\n",
    "    print(f'{TAB}\\tNext State list loaded.')\n",
    "\n",
    "    # Load Current Reward List\n",
    "    RTList = [[0.0] * totalAct for i in range(totalState)]\n",
    "    for i in range(totalState):\n",
    "        x = lines[3+totalState+i].split(';')\n",
    "        x.remove('\\n')\n",
    "        for j in range(totalAct):\n",
    "            RTList[i][j] = float(x[j])\n",
    "    print(f'{TAB}\\tCurrent Reward list loaded.')\n",
    "    print(f'{TAB}Finish loading \"{configFile}\"')\n",
    "    \n",
    "    return mazeX, mazeY, totalState, totalAct, NSList, RTList"
   ]
  },
  {
   "cell_type": "code",
   "execution_count": 64,
   "id": "be65d796",
   "metadata": {},
   "outputs": [],
   "source": [
    "def load_mazeConfig(mazeDir, configFile, TAB=''):\n",
    "    \"\"\"\n",
    "    Read and separate data from config file to a list.\n",
    "    \"\"\"\n",
    "    # Check config file, different behavior for maze set.\n",
    "    print(f'{TAB}Reading Config File...')\n",
    "    configTarget = os.path.join(mazeDir, configFile)\n",
    "    if os.path.isdir(configTarget):\n",
    "        # Config file is maze set\n",
    "        print(f'{TAB}\\tConfig file contain multiple mazes.')\n",
    "        mazeConfigs = os.listdir(configTarget)\n",
    "        mazeConfigs.sort()\n",
    "        print(f'{TAB}\\t{len(mazeConfigs)} maze config files found:')\n",
    "        configDataList = []\n",
    "        for mazeConfig in mazeConfigs:\n",
    "#             print(f'{TAB}\\t\\t{mazeConfig}')\n",
    "            fileTarget = os.path.join(configTarget, mazeConfig)\n",
    "            configData = get_config_data(fileTarget, TAB=f'{TAB}\\t\\t')\n",
    "            configDataList.append(configData)\n",
    "        return configDataList\n",
    "        \n",
    "    elif os.path.isfile(configTarget):\n",
    "        # Config file is a single maze configuration.\n",
    "        print(f'{TAB}\\tConfig file contain 1 maze.')\n",
    "        print(f'{TAB}\\tLoading maze config...')\n",
    "        configData = get_config_data(configTarget, TAB=f'{TAB}\\t\\t')\n",
    "        return [configData]\n",
    "    else:\n",
    "        # Config file is neither.\n",
    "        print(f'{TAB}\\tError: Not a config file or set.')"
   ]
  },
  {
   "cell_type": "code",
   "execution_count": 65,
   "id": "5872caf7",
   "metadata": {
    "scrolled": false
   },
   "outputs": [
    {
     "name": "stdout",
     "output_type": "stream",
     "text": [
      "Scanning Maze Config File...\n",
      "\t8 maze config file(s) found.\n",
      "\t1 maze config set(s) found.\n",
      "Scanning finished.\n",
      "List of available maze configs:\n",
      "\t1) 22083010X10c4.txt\n",
      "\t2) 22100605X05c0.txt\n",
      "\t3) 22100605X05c1.txt\n",
      "\t4) 22100605X05c2.txt\n",
      "\t5) 22100605X05c3.txt\n",
      "\t6) 22100605X05c4.txt\n",
      "\t7) 22113040X40c0.txt\n",
      "\t8) 22113040X40c1.txt\n",
      "\t9) 230116_set0\n",
      "Please choose maze configuration file!\n",
      "\tInput Select Index (1-9) : 9\n",
      "\tSelected '230116_set0'\n",
      "Reading Config File...\n",
      "\tConfig file contain multiple mazes.\n",
      "\t6 maze config files found:\n",
      "\t\tLoading ./maze_config/230116_set0/23011605X05c0.txt...\n",
      "\t\t\tFile consists of 53 lines of data.\n",
      "\t\t\tMaze size loaded. 5X5 (25 states)\n",
      "\t\t\tNumber of action loaded. There are 4 actions\n",
      "\t\t\tNext State list loaded.\n",
      "\t\t\tCurrent Reward list loaded.\n",
      "\t\tFinish loading ./maze_config/230116_set0/23011605X05c0.txt\n",
      "\t\tLoading ./maze_config/230116_set0/23011606X06c0.txt...\n",
      "\t\t\tFile consists of 75 lines of data.\n",
      "\t\t\tMaze size loaded. 6X6 (36 states)\n",
      "\t\t\tNumber of action loaded. There are 4 actions\n",
      "\t\t\tNext State list loaded.\n",
      "\t\t\tCurrent Reward list loaded.\n",
      "\t\tFinish loading ./maze_config/230116_set0/23011606X06c0.txt\n",
      "\t\tLoading ./maze_config/230116_set0/23011607X07c0.txt...\n",
      "\t\t\tFile consists of 101 lines of data.\n",
      "\t\t\tMaze size loaded. 7X7 (49 states)\n",
      "\t\t\tNumber of action loaded. There are 4 actions\n",
      "\t\t\tNext State list loaded.\n",
      "\t\t\tCurrent Reward list loaded.\n",
      "\t\tFinish loading ./maze_config/230116_set0/23011607X07c0.txt\n",
      "\t\tLoading ./maze_config/230116_set0/23011608X08c0.txt...\n",
      "\t\t\tFile consists of 131 lines of data.\n",
      "\t\t\tMaze size loaded. 8X8 (64 states)\n",
      "\t\t\tNumber of action loaded. There are 4 actions\n",
      "\t\t\tNext State list loaded.\n",
      "\t\t\tCurrent Reward list loaded.\n",
      "\t\tFinish loading ./maze_config/230116_set0/23011608X08c0.txt\n",
      "\t\tLoading ./maze_config/230116_set0/23011609X09c0.txt...\n",
      "\t\t\tFile consists of 165 lines of data.\n",
      "\t\t\tMaze size loaded. 9X9 (81 states)\n",
      "\t\t\tNumber of action loaded. There are 4 actions\n",
      "\t\t\tNext State list loaded.\n",
      "\t\t\tCurrent Reward list loaded.\n",
      "\t\tFinish loading ./maze_config/230116_set0/23011609X09c0.txt\n",
      "\t\tLoading ./maze_config/230116_set0/23011610X10c0.txt...\n",
      "\t\t\tFile consists of 203 lines of data.\n",
      "\t\t\tMaze size loaded. 10X10 (100 states)\n",
      "\t\t\tNumber of action loaded. There are 4 actions\n",
      "\t\t\tNext State list loaded.\n",
      "\t\t\tCurrent Reward list loaded.\n",
      "\t\tFinish loading ./maze_config/230116_set0/23011610X10c0.txt\n"
     ]
    }
   ],
   "source": [
    "selectedConfig = select_maze(config_path)\n",
    "load_mazeConfig(config_path, selectedConfig)"
   ]
  },
  {
   "cell_type": "code",
   "execution_count": null,
   "id": "c58f37e8",
   "metadata": {},
   "outputs": [],
   "source": []
  }
 ],
 "metadata": {
  "kernelspec": {
   "display_name": "Python 3 (ipykernel)",
   "language": "python",
   "name": "python3"
  },
  "language_info": {
   "codemirror_mode": {
    "name": "ipython",
    "version": 3
   },
   "file_extension": ".py",
   "mimetype": "text/x-python",
   "name": "python",
   "nbconvert_exporter": "python",
   "pygments_lexer": "ipython3",
   "version": "3.9.13"
  },
  "vscode": {
   "interpreter": {
    "hash": "cfbecc6b7b02738b8f46f7104a81cce25d19a20dda612d7992deb4b3b8dee98d"
   }
  }
 },
 "nbformat": 4,
 "nbformat_minor": 5
}
