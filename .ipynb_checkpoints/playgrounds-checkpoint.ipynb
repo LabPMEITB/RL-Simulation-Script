{
 "cells": [
  {
   "cell_type": "code",
   "execution_count": 1,
   "id": "2953e554",
   "metadata": {},
   "outputs": [],
   "source": [
    "import os\n",
    "import numpy as np\n",
    "from IPython.display import SVG\n",
    "from lib import support as fn\n",
    "from lib import mazeSVG"
   ]
  },
  {
   "cell_type": "code",
   "execution_count": null,
   "id": "4f799359",
   "metadata": {},
   "outputs": [],
   "source": [
    "## ---------- Load Maze Config ---------- #\n",
    "## Target maze config file\n",
    "config_file = 'maze_config'\n",
    "current_dir = os.getcwd()\n",
    "config_path = fn.gen_path(current_dir, config_file)\n",
    "\n",
    "## Select maze config file\n",
    "mazeConfig_file = fn.select_maze(config_path)\n",
    "\n",
    "\n",
    "## Read maze config file\n",
    "maze_config = fn.load_mazeConfig(config_path, mazeConfig_file)\n",
    "\n",
    "## Pass content of maze_config\n",
    "maze_x = maze_config[0]\n",
    "maze_y = maze_config[1]\n",
    "total_state = maze_config[2]\n",
    "total_act = maze_config[3]\n",
    "ns_list = maze_config[4]\n",
    "rt_list = maze_config[5]\n",
    "\n",
    "## Display Maze\n",
    "scale = 50*maze_x\n",
    "blank_maze = 'current_maze.svg'\n",
    "\n",
    "mSVG = mazeSVG.drawMaze(maze_x, maze_y, scale, ns_list)\n",
    "mSVG.gen_svg(blank_maze)\n",
    "display(SVG(blank_maze))"
   ]
  }
 ],
 "metadata": {
  "kernelspec": {
   "display_name": "Python 3 (ipykernel)",
   "language": "python",
   "name": "python3"
  },
  "language_info": {
   "codemirror_mode": {
    "name": "ipython",
    "version": 3
   },
   "file_extension": ".py",
   "mimetype": "text/x-python",
   "name": "python",
   "nbconvert_exporter": "python",
   "pygments_lexer": "ipython3",
   "version": "3.10.0"
  },
  "vscode": {
   "interpreter": {
    "hash": "cfbecc6b7b02738b8f46f7104a81cce25d19a20dda612d7992deb4b3b8dee98d"
   }
  }
 },
 "nbformat": 4,
 "nbformat_minor": 5
}
