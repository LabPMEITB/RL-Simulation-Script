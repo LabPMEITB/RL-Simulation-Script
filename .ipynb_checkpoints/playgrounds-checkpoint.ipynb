{
 "cells": [
  {
   "cell_type": "code",
   "execution_count": 1,
   "id": "2953e554",
   "metadata": {},
   "outputs": [],
   "source": [
    "import os\n",
    "import numpy as np\n",
    "from IPython.display import SVG\n",
    "from lib import support as fn\n",
    "from lib import mazeSVG"
   ]
  },
  {
   "cell_type": "code",
   "execution_count": 2,
   "id": "18db0835",
   "metadata": {},
   "outputs": [],
   "source": [
    "def gen_maxMatrix(qTable):\n",
    "    matrix = []\n",
    "    for item in qTable:\n",
    "        maxQ = max(item)\n",
    "        act = np.argmax(item)\n",
    "        print(item)\n",
    "        print(maxQ)\n",
    "        print(act)\n",
    "        matrix.append([maxQ, act])\n",
    "    return matrix"
   ]
  },
  {
   "cell_type": "code",
   "execution_count": 7,
   "id": "1f5b16b8",
   "metadata": {
    "scrolled": false
   },
   "outputs": [],
   "source": [
    "qTable = np.random.rand(25,4)\n",
    "# gen_maxMatrix(qTable)\n",
    "matrix = fn.gen_maxMatrix(qTable)\n",
    "# max_matrix = gen_maxMatrix(qTable)"
   ]
  },
  {
   "cell_type": "code",
   "execution_count": 8,
   "id": "edef5eaa",
   "metadata": {},
   "outputs": [
    {
     "data": {
      "text/plain": [
       "[[0.8539827686600601, 1],\n",
       " [0.7954063703694275, 0],\n",
       " [0.8526148359208165, 3],\n",
       " [0.5785688187941902, 3],\n",
       " [0.9028657549179957, 3],\n",
       " [0.3576532982456232, 3],\n",
       " [0.9568564150866338, 0],\n",
       " [0.8026440366026708, 3],\n",
       " [0.9071513261061686, 0],\n",
       " [0.6199154040343307, 1],\n",
       " [0.985629473850508, 0],\n",
       " [0.8602796180783965, 2],\n",
       " [0.7348230837142702, 2],\n",
       " [0.872814671056276, 1],\n",
       " [0.6385587396123065, 2],\n",
       " [0.6117252585671724, 0],\n",
       " [0.8985018644666264, 3],\n",
       " [0.8836230178120748, 1],\n",
       " [0.8824104101123197, 1],\n",
       " [0.9367131331984561, 2],\n",
       " [0.2828350932672087, 1],\n",
       " [0.7888983087818646, 2],\n",
       " [0.6807487163467113, 2],\n",
       " [0.821564367290942, 0],\n",
       " [0.5970077865816702, 2]]"
      ]
     },
     "execution_count": 8,
     "metadata": {},
     "output_type": "execute_result"
    }
   ],
   "source": [
    "matrix"
   ]
  },
  {
   "cell_type": "code",
   "execution_count": 13,
   "id": "ff06d996",
   "metadata": {},
   "outputs": [
    {
     "name": "stdout",
     "output_type": "stream",
     "text": [
      "0 0.8539827686600601 1\n",
      "1 0.7954063703694275 0\n",
      "2 0.8526148359208165 3\n",
      "3 0.5785688187941902 3\n",
      "4 0.9028657549179957 3\n",
      "5 0.3576532982456232 3\n",
      "6 0.9568564150866338 0\n",
      "7 0.8026440366026708 3\n",
      "8 0.9071513261061686 0\n",
      "9 0.6199154040343307 1\n",
      "10 0.985629473850508 0\n",
      "11 0.8602796180783965 2\n",
      "12 0.7348230837142702 2\n",
      "13 0.872814671056276 1\n",
      "14 0.6385587396123065 2\n",
      "15 0.6117252585671724 0\n",
      "16 0.8985018644666264 3\n",
      "17 0.8836230178120748 1\n",
      "18 0.8824104101123197 1\n",
      "19 0.9367131331984561 2\n",
      "20 0.2828350932672087 1\n",
      "21 0.7888983087818646 2\n",
      "22 0.6807487163467113 2\n",
      "23 0.821564367290942 0\n",
      "24 0.5970077865816702 2\n"
     ]
    }
   ],
   "source": [
    "for i in range(len(matrix)):\n",
    "    maxQ, at = matrix[i]\n",
    "    print(i, maxQ, at)\n",
    "#     print(at)"
   ]
  },
  {
   "cell_type": "code",
   "execution_count": null,
   "id": "390b7573",
   "metadata": {},
   "outputs": [],
   "source": []
  }
 ],
 "metadata": {
  "kernelspec": {
   "display_name": "Python 3 (ipykernel)",
   "language": "python",
   "name": "python3"
  },
  "language_info": {
   "codemirror_mode": {
    "name": "ipython",
    "version": 3
   },
   "file_extension": ".py",
   "mimetype": "text/x-python",
   "name": "python",
   "nbconvert_exporter": "python",
   "pygments_lexer": "ipython3",
   "version": "3.10.0"
  },
  "vscode": {
   "interpreter": {
    "hash": "cfbecc6b7b02738b8f46f7104a81cce25d19a20dda612d7992deb4b3b8dee98d"
   }
  }
 },
 "nbformat": 4,
 "nbformat_minor": 5
}
