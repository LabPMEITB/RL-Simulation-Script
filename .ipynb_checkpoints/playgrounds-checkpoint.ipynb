{
 "cells": [
  {
   "cell_type": "code",
   "execution_count": 1,
   "id": "2953e554",
   "metadata": {},
   "outputs": [],
   "source": [
    "import numpy as np\n",
    "from lib import support as sp"
   ]
  },
  {
   "cell_type": "code",
   "execution_count": 5,
   "id": "4d5aeb07",
   "metadata": {
    "scrolled": false
   },
   "outputs": [
    {
     "name": "stdout",
     "output_type": "stream",
     "text": [
      "CPU times: user 424 ms, sys: 19.9 ms, total: 444 ms\n",
      "Wall time: 443 ms\n"
     ]
    }
   ],
   "source": [
    "n_state = 24\n",
    "n_act = 4\n",
    "\n",
    "qTable = np.random.rand(n_state,n_act)\n",
    "\n",
    "%time sp.display_qTable(qTable, save_file=True, show=False)\n",
    "# display_qTable(qTable, print_val=False)\n",
    "# sp.display_qTable(qTable, save_file=True)\n"
   ]
  },
  {
   "cell_type": "code",
   "execution_count": null,
   "id": "b612da66",
   "metadata": {},
   "outputs": [],
   "source": []
  }
 ],
 "metadata": {
  "kernelspec": {
   "display_name": "Python 3 (ipykernel)",
   "language": "python",
   "name": "python3"
  },
  "language_info": {
   "codemirror_mode": {
    "name": "ipython",
    "version": 3
   },
   "file_extension": ".py",
   "mimetype": "text/x-python",
   "name": "python",
   "nbconvert_exporter": "python",
   "pygments_lexer": "ipython3",
   "version": "3.9.13"
  }
 },
 "nbformat": 4,
 "nbformat_minor": 5
}
