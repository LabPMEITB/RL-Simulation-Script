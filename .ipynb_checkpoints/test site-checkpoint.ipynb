{
 "cells": [
  {
   "cell_type": "code",
   "execution_count": 1,
   "id": "a8300e7d",
   "metadata": {
    "scrolled": true
   },
   "outputs": [
    {
     "name": "stdout",
     "output_type": "stream",
     "text": [
      "Populating the interactive namespace from numpy and matplotlib\n"
     ]
    }
   ],
   "source": [
    "%pylab inline"
   ]
  },
  {
   "cell_type": "code",
   "execution_count": 2,
   "id": "2902c381",
   "metadata": {},
   "outputs": [],
   "source": [
    "from numba import jit, njit, vectorize"
   ]
  },
  {
   "cell_type": "code",
   "execution_count": 3,
   "id": "b648edfa",
   "metadata": {},
   "outputs": [],
   "source": [
    "def func(in_list):\n",
    "    out_list = []\n",
    "    for item in in_list:\n",
    "        if item % 2 == 0:\n",
    "            out_list.append(2)\n",
    "        else:\n",
    "            out_list.append(1)\n",
    "    return out_list\n",
    "\n",
    "test_array = np.arange(100000)"
   ]
  },
  {
   "cell_type": "code",
   "execution_count": 4,
   "id": "a3ba8b71",
   "metadata": {},
   "outputs": [
    {
     "name": "stdout",
     "output_type": "stream",
     "text": [
      "Wall time: 30.9 ms\n"
     ]
    }
   ],
   "source": [
    "%time _ = func(test_array)"
   ]
  },
  {
   "cell_type": "code",
   "execution_count": 5,
   "id": "f2a0978e",
   "metadata": {},
   "outputs": [],
   "source": [
    "jit_func = njit()(func)"
   ]
  },
  {
   "cell_type": "code",
   "execution_count": 10,
   "id": "4be89ea3",
   "metadata": {
    "scrolled": true
   },
   "outputs": [
    {
     "name": "stdout",
     "output_type": "stream",
     "text": [
      "Wall time: 998 µs\n"
     ]
    }
   ],
   "source": [
    "%time _ = jit_func(test_array)"
   ]
  },
  {
   "cell_type": "code",
   "execution_count": 7,
   "id": "36af6126",
   "metadata": {},
   "outputs": [],
   "source": [
    "@vectorize\n",
    "def scalar_func(n):\n",
    "    if n % 2 == 0:\n",
    "        return 2\n",
    "    else:\n",
    "        return 1"
   ]
  },
  {
   "cell_type": "code",
   "execution_count": 9,
   "id": "386afcfc",
   "metadata": {},
   "outputs": [
    {
     "name": "stdout",
     "output_type": "stream",
     "text": [
      "Wall time: 0 ns\n"
     ]
    }
   ],
   "source": [
    "%time _ = scalar_func(test_array)"
   ]
  },
  {
   "cell_type": "code",
   "execution_count": null,
   "id": "8afa3bd4",
   "metadata": {},
   "outputs": [],
   "source": []
  }
 ],
 "metadata": {
  "kernelspec": {
   "display_name": "Python 3 (ipykernel)",
   "language": "python",
   "name": "python3"
  },
  "language_info": {
   "codemirror_mode": {
    "name": "ipython",
    "version": 3
   },
   "file_extension": ".py",
   "mimetype": "text/x-python",
   "name": "python",
   "nbconvert_exporter": "python",
   "pygments_lexer": "ipython3",
   "version": "3.10.0"
  }
 },
 "nbformat": 4,
 "nbformat_minor": 5
}
