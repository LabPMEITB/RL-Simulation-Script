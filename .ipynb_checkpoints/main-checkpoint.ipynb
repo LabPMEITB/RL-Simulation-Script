{
 "cells": [
  {
   "cell_type": "code",
   "execution_count": 1,
   "metadata": {},
   "outputs": [],
   "source": [
    "# File created by rydhslmy at 2022/11/30 09:00 AM.\n",
    "# Description : Reinforcement Learning Algorithm for finding shortest path in a Maze.\n",
    "# Purpose : Act as comparison for the Deep Q-Network models that is to be created."
   ]
  },
  {
   "cell_type": "code",
   "execution_count": 2,
   "metadata": {},
   "outputs": [],
   "source": [
    "# ---------- Import Libraries ---------- #\n",
    "# Import libraries\n",
    "import os\n",
    "import random\n",
    "import math\n",
    "from IPython.display import SVG\n",
    "import numpy as np\n",
    "\n",
    "# Import custom\n",
    "from lib import qLearning as ql\n",
    "from lib import support as fn\n",
    "from lib import mazeSVG"
   ]
  },
  {
   "cell_type": "code",
   "execution_count": 3,
   "metadata": {},
   "outputs": [
    {
     "name": "stdout",
     "output_type": "stream",
     "text": [
      "File 'maze_config' exist in '.'\n",
      "File 'results' exist in '.'\n",
      "File 'temp' exist in '.'\n"
     ]
    }
   ],
   "source": [
    "# --------- Create Directories --------- #\n",
    "## Define main directories\n",
    "config_dir = 'maze_config'\n",
    "result_dir = 'results'\n",
    "temp_dir = 'temp'\n",
    "c_dir = '.'\n",
    "# c_dir = os.getcwd()\n",
    "\n",
    "## Generate paths\n",
    "# Path to maze config files\n",
    "config_path = fn.gen_path(c_dir, config_dir)\n",
    "\n",
    "## Path to maze results folder\n",
    "result_path = fn.gen_path(c_dir, result_dir)\n",
    "\n",
    "## Path to experimental results folder\n",
    "temp_path = fn.gen_path(c_dir, temp_dir)"
   ]
  },
  {
   "cell_type": "code",
   "execution_count": 4,
   "metadata": {},
   "outputs": [
    {
     "name": "stdout",
     "output_type": "stream",
     "text": [
      "8 maze config file(s) detected.\n",
      "1) 22083010X10c4.txt\n",
      "2) 22100605X05c0.txt\n",
      "3) 22100605X05c1.txt\n",
      "4) 22100605X05c2.txt\n",
      "5) 22100605X05c3.txt\n",
      "6) 22100605X05c4.txt\n",
      "7) 22113040X40c0.txt\n",
      "8) 22113040X40c1.txt\n",
      "\n",
      "Input Select Index (1-8) : 2\n",
      "\n",
      "Selected '22100605X05c0.txt'\n",
      "Loading 22100605X05c0.txt...\n",
      "\tFile consists of 53 lines of data.\n",
      "\tMaze size loaded. 5X5 (25 states)\n",
      "\tNumber of action loaded. There are 4 actions\n",
      "\tNext State list loaded.\n",
      "\tCurrent Reward list loaded.\n",
      "Finish loading 22100605X05c0.txt\n"
     ]
    },
    {
     "data": {
      "image/svg+xml": [
       "<svg xmlns=\"http://www.w3.org/2000/svg\" xmlns:xlink=\"http://www.w3.org/1999/xlink\" width=\"270\" height=\"270\" viewBox=\"-10 -10 270 270\">\n",
       "<defs>\n",
       "<style type=\"text/css\"><![CDATA[\n",
       "line {\n",
       "    stroke: #000000;\n",
       "    stroke-linecap: square;\n",
       "    stroke-width: 4;\n",
       "}\n",
       "]]>\n",
       ".small { font: bold 10.0px sans-serif;\n",
       "         fill: lightgray; }}\n",
       "</style>\n",
       "</defs>\n",
       "<!--Add Grid Layout-->\n",
       "<rect x=\"0\" y=\"0\" width=\"50\" height=\"50\" fill=\"none\" stroke=\"gray\" stroke-width=\"1\"/>\n",
       "<rect x=\"0\" y=\"50\" width=\"50\" height=\"50\" fill=\"none\" stroke=\"gray\" stroke-width=\"1\"/>\n",
       "<rect x=\"0\" y=\"100\" width=\"50\" height=\"50\" fill=\"none\" stroke=\"gray\" stroke-width=\"1\"/>\n",
       "<rect x=\"0\" y=\"150\" width=\"50\" height=\"50\" fill=\"none\" stroke=\"gray\" stroke-width=\"1\"/>\n",
       "<rect x=\"0\" y=\"200\" width=\"50\" height=\"50\" fill=\"none\" stroke=\"gray\" stroke-width=\"1\"/>\n",
       "<rect x=\"50\" y=\"0\" width=\"50\" height=\"50\" fill=\"none\" stroke=\"gray\" stroke-width=\"1\"/>\n",
       "<rect x=\"50\" y=\"50\" width=\"50\" height=\"50\" fill=\"none\" stroke=\"gray\" stroke-width=\"1\"/>\n",
       "<rect x=\"50\" y=\"100\" width=\"50\" height=\"50\" fill=\"none\" stroke=\"gray\" stroke-width=\"1\"/>\n",
       "<rect x=\"50\" y=\"150\" width=\"50\" height=\"50\" fill=\"none\" stroke=\"gray\" stroke-width=\"1\"/>\n",
       "<rect x=\"50\" y=\"200\" width=\"50\" height=\"50\" fill=\"none\" stroke=\"gray\" stroke-width=\"1\"/>\n",
       "<rect x=\"100\" y=\"0\" width=\"50\" height=\"50\" fill=\"none\" stroke=\"gray\" stroke-width=\"1\"/>\n",
       "<rect x=\"100\" y=\"50\" width=\"50\" height=\"50\" fill=\"none\" stroke=\"gray\" stroke-width=\"1\"/>\n",
       "<rect x=\"100\" y=\"100\" width=\"50\" height=\"50\" fill=\"none\" stroke=\"gray\" stroke-width=\"1\"/>\n",
       "<rect x=\"100\" y=\"150\" width=\"50\" height=\"50\" fill=\"none\" stroke=\"gray\" stroke-width=\"1\"/>\n",
       "<rect x=\"100\" y=\"200\" width=\"50\" height=\"50\" fill=\"none\" stroke=\"gray\" stroke-width=\"1\"/>\n",
       "<rect x=\"150\" y=\"0\" width=\"50\" height=\"50\" fill=\"none\" stroke=\"gray\" stroke-width=\"1\"/>\n",
       "<rect x=\"150\" y=\"50\" width=\"50\" height=\"50\" fill=\"none\" stroke=\"gray\" stroke-width=\"1\"/>\n",
       "<rect x=\"150\" y=\"100\" width=\"50\" height=\"50\" fill=\"none\" stroke=\"gray\" stroke-width=\"1\"/>\n",
       "<rect x=\"150\" y=\"150\" width=\"50\" height=\"50\" fill=\"none\" stroke=\"gray\" stroke-width=\"1\"/>\n",
       "<rect x=\"150\" y=\"200\" width=\"50\" height=\"50\" fill=\"none\" stroke=\"gray\" stroke-width=\"1\"/>\n",
       "<rect x=\"200\" y=\"0\" width=\"50\" height=\"50\" fill=\"none\" stroke=\"gray\" stroke-width=\"1\"/>\n",
       "<rect x=\"200\" y=\"50\" width=\"50\" height=\"50\" fill=\"none\" stroke=\"gray\" stroke-width=\"1\"/>\n",
       "<rect x=\"200\" y=\"100\" width=\"50\" height=\"50\" fill=\"none\" stroke=\"gray\" stroke-width=\"1\"/>\n",
       "<rect x=\"200\" y=\"150\" width=\"50\" height=\"50\" fill=\"none\" stroke=\"gray\" stroke-width=\"1\"/>\n",
       "<rect x=\"200\" y=\"200\" width=\"50\" height=\"50\" fill=\"none\" stroke=\"gray\" stroke-width=\"1\"/>\n",
       "\n",
       "<!--Add Coordinates-->\n",
       "<text x=\"5\" y=\"15\" class=\"small\">S0</text>\n",
       "<text x=\"5\" y=\"65\" class=\"small\">S5</text>\n",
       "<text x=\"5\" y=\"114\" class=\"small\">S10</text>\n",
       "<text x=\"5\" y=\"165\" class=\"small\">S15</text>\n",
       "<text x=\"5\" y=\"215\" class=\"small\">S20</text>\n",
       "<text x=\"55\" y=\"15\" class=\"small\">S1</text>\n",
       "<text x=\"55\" y=\"65\" class=\"small\">S6</text>\n",
       "<text x=\"55\" y=\"114\" class=\"small\">S11</text>\n",
       "<text x=\"55\" y=\"165\" class=\"small\">S16</text>\n",
       "<text x=\"55\" y=\"215\" class=\"small\">S21</text>\n",
       "<text x=\"105\" y=\"15\" class=\"small\">S2</text>\n",
       "<text x=\"105\" y=\"65\" class=\"small\">S7</text>\n",
       "<text x=\"105\" y=\"114\" class=\"small\">S12</text>\n",
       "<text x=\"105\" y=\"165\" class=\"small\">S17</text>\n",
       "<text x=\"105\" y=\"215\" class=\"small\">S22</text>\n",
       "<text x=\"155\" y=\"15\" class=\"small\">S3</text>\n",
       "<text x=\"155\" y=\"65\" class=\"small\">S8</text>\n",
       "<text x=\"155\" y=\"114\" class=\"small\">S13</text>\n",
       "<text x=\"155\" y=\"165\" class=\"small\">S18</text>\n",
       "<text x=\"155\" y=\"215\" class=\"small\">S23</text>\n",
       "<text x=\"204\" y=\"15\" class=\"small\">S4</text>\n",
       "<text x=\"204\" y=\"65\" class=\"small\">S9</text>\n",
       "<text x=\"204\" y=\"114\" class=\"small\">S14</text>\n",
       "<text x=\"204\" y=\"165\" class=\"small\">S19</text>\n",
       "<text x=\"204\" y=\"215\" class=\"small\">S24</text>\n",
       "\n",
       "<!--Add Walls-->\n",
       "<line x1=\"0\" y1=\"100\" x2=\"50\" y2=\"100\"/>\n",
       "<line x1=\"50\" y1=\"100\" x2=\"50\" y2=\"150\"/>\n",
       "<line x1=\"0\" y1=\"200\" x2=\"50\" y2=\"200\"/>\n",
       "<line x1=\"0\" y1=\"250\" x2=\"50\" y2=\"250\"/>\n",
       "<line x1=\"50\" y1=\"50\" x2=\"100\" y2=\"50\"/>\n",
       "<line x1=\"100\" y1=\"50\" x2=\"100\" y2=\"100\"/>\n",
       "<line x1=\"50\" y1=\"150\" x2=\"100\" y2=\"150\"/>\n",
       "<line x1=\"50\" y1=\"200\" x2=\"100\" y2=\"200\"/>\n",
       "<line x1=\"50\" y1=\"250\" x2=\"100\" y2=\"250\"/>\n",
       "<line x1=\"100\" y1=\"100\" x2=\"150\" y2=\"100\"/>\n",
       "<line x1=\"100\" y1=\"150\" x2=\"150\" y2=\"150\"/>\n",
       "<line x1=\"150\" y1=\"100\" x2=\"150\" y2=\"150\"/>\n",
       "<line x1=\"150\" y1=\"150\" x2=\"150\" y2=\"200\"/>\n",
       "<line x1=\"100\" y1=\"250\" x2=\"150\" y2=\"250\"/>\n",
       "<line x1=\"150\" y1=\"50\" x2=\"200\" y2=\"50\"/>\n",
       "<line x1=\"200\" y1=\"50\" x2=\"200\" y2=\"100\"/>\n",
       "<line x1=\"200\" y1=\"100\" x2=\"200\" y2=\"150\"/>\n",
       "<line x1=\"150\" y1=\"200\" x2=\"200\" y2=\"200\"/>\n",
       "<line x1=\"150\" y1=\"250\" x2=\"200\" y2=\"250\"/>\n",
       "<line x1=\"250\" y1=\"0\" x2=\"250\" y2=\"50\"/>\n",
       "<line x1=\"250\" y1=\"50\" x2=\"250\" y2=\"100\"/>\n",
       "<line x1=\"200\" y1=\"150\" x2=\"250\" y2=\"150\"/>\n",
       "<line x1=\"250\" y1=\"100\" x2=\"250\" y2=\"150\"/>\n",
       "<line x1=\"250\" y1=\"150\" x2=\"250\" y2=\"200\"/>\n",
       "<line x1=\"200\" y1=\"250\" x2=\"250\" y2=\"250\"/>\n",
       "<line x1=\"250\" y1=\"200\" x2=\"250\" y2=\"250\"/>\n",
       "\n",
       "<!--Add the north and west maze border-->\n",
       "<line x1=\"0\" y1=\"0\" x2=\"250\" y2=\"0\"/>\n",
       "<line x1=\"0\" y1=\"0\" x2=\"0\" y2=\"250\"/>\n",
       "</svg>"
      ],
      "text/plain": [
       "<IPython.core.display.SVG object>"
      ]
     },
     "metadata": {},
     "output_type": "display_data"
    }
   ],
   "source": [
    "## ---------- Load Maze Config ---------- #\n",
    "## Select maze config file\n",
    "mazeConfig_file = fn.select_maze(config_path)\n",
    "\n",
    "## Read maze config file\n",
    "maze_config = fn.load_mazeConfig(config_path, mazeConfig_file)\n",
    "\n",
    "## Pass content of maze_config\n",
    "maze_x = maze_config[0]\n",
    "maze_y = maze_config[1]\n",
    "total_state = maze_config[2]\n",
    "total_act = maze_config[3]\n",
    "ns_list = maze_config[4]\n",
    "rt_list = maze_config[5]\n",
    "\n",
    "## Display Maze\n",
    "# blank_maze = os.path.join(temp_path, 'blank_maze.svg')\n",
    "# blank_maze = os.path.join('temp', 'blank_maze.svg')\n",
    "blank_maze = 'temp/temp.svg'\n",
    "mSVG = mazeSVG.drawMaze(maze_x, maze_y, ns_list)\n",
    "mSVG.gen_svg(blank_maze)\n",
    "display(SVG(blank_maze))"
   ]
  },
  {
   "cell_type": "code",
   "execution_count": null,
   "metadata": {},
   "outputs": [],
   "source": [
    "## Select goal state randomly from possible candidates\n",
    "possible_goals = fn.find_goals(ns_list)\n",
    "goal_state = random.choice(possible_goals)\n",
    "# goal_state = 3\n",
    "\n",
    "# Create list of possible start\n",
    "startState_list = fn.find_goals(ns_list)\n",
    "startState_list.remove(goal_state)\n",
    "\n",
    "print(possible_goals)\n",
    "print(startState_list)\n",
    "print(goal_state)"
   ]
  },
  {
   "cell_type": "code",
   "execution_count": null,
   "metadata": {},
   "outputs": [],
   "source": [
    "# Set Goal State Reward\n",
    "goal_reward = 10\n",
    "\n",
    "# Update Reward Matrix\n",
    "if (goal_state > (total_state-1)):\n",
    "    print(\"Goal State cannot be used. Try again\")\n",
    "else:\n",
    "    for i in range(total_state):\n",
    "        for j in range(total_act):\n",
    "            if (ns_list[i][j]==goal_state)&(i != goal_state):\n",
    "                rt_list[i][j] = goal_reward\n",
    "    print('Current Reward list updated.')"
   ]
  },
  {
   "cell_type": "code",
   "execution_count": null,
   "metadata": {},
   "outputs": [],
   "source": [
    "# Set simulation's hyparameters\n",
    "total_episode = 1000\n",
    "max_step = 10*total_state\n",
    "alpha = 0.125 # Learning Rate\n",
    "gamma = 0.875 # Discount Factor\n",
    "epsilon = 0.99"
   ]
  },
  {
   "cell_type": "code",
   "execution_count": null,
   "metadata": {},
   "outputs": [],
   "source": [
    "## Brute force learning\n",
    "\n",
    "# Initialize Software Model\n",
    "sw = ql.qrl(maze_x = maze_x,\n",
    "            maze_y = maze_y,\n",
    "            total_state = total_state,\n",
    "            total_action = total_act,\n",
    "            learning_rate = alpha, \n",
    "            discount_factor = gamma,\n",
    "            initial_exploration_rate = epsilon,\n",
    "            max_episode = total_episode,\n",
    "            max_step = max_step,\n",
    "            goal_state = goal_state,\n",
    "            reward_matrix = rt_list,\n",
    "            ns_matrix = ns_list,\n",
    "            random_pool = possible_goals\n",
    "           )\n",
    "\n",
    "# Start software learning\n",
    "exec_time = sw.start()"
   ]
  },
  {
   "cell_type": "code",
   "execution_count": null,
   "metadata": {
    "scrolled": false
   },
   "outputs": [],
   "source": [
    "pass_count, records, fail_list = sw.shortest_path_test()\n",
    "\n",
    "for path in records:\n",
    "    temp = 'temp/temp.svg'\n",
    "    mSVG.gen_svg(blank_maze,path=path)\n",
    "    display(SVG(blank_maze))"
   ]
  },
  {
   "cell_type": "code",
   "execution_count": null,
   "metadata": {
    "scrolled": false
   },
   "outputs": [],
   "source": [
    "svc = sw.state_visit_count.reshape((maze_x, maze_y))\n",
    "fn.vis_svc(svc)"
   ]
  },
  {
   "cell_type": "code",
   "execution_count": null,
   "metadata": {},
   "outputs": [],
   "source": [
    "fn.plot(sw.cumulative_rewards, title='Cumulative Reward')"
   ]
  },
  {
   "cell_type": "code",
   "execution_count": null,
   "metadata": {
    "scrolled": false
   },
   "outputs": [],
   "source": [
    "fn.plot(sw.exploration_per_episode, title='Exploration per episode')"
   ]
  },
  {
   "cell_type": "code",
   "execution_count": null,
   "metadata": {
    "scrolled": true
   },
   "outputs": [],
   "source": [
    "fn.plot(sw.step_per_episode, title='Total Step per episode')"
   ]
  },
  {
   "cell_type": "code",
   "execution_count": null,
   "metadata": {
    "scrolled": true
   },
   "outputs": [],
   "source": [
    "array1 = np.array(sw.step_per_episode)\n",
    "array2 = np.array(sw.exploration_per_episode)\n",
    "subtracted_array = np.subtract(array1, array2)\n",
    "exploit = list(subtracted_array)\n",
    "\n",
    "fn.plot(exploit, title='Exploitation per episode')"
   ]
  },
  {
   "cell_type": "code",
   "execution_count": null,
   "metadata": {
    "scrolled": false
   },
   "outputs": [],
   "source": [
    "fn.display_qTable(sw.Q, gen_file=True, show=False)"
   ]
  },
  {
   "cell_type": "code",
   "execution_count": null,
   "metadata": {},
   "outputs": [],
   "source": [
    "# Show map convergence\n",
    "max_matrix = fn.gen_maxMatrix(sw.Q)\n",
    "mcm_file = 'mcm.svg'\n",
    "mSVG.gen_convergenceMap(mcm_file, max_matrix, goal_state)\n",
    "display(SVG(mcm_file))"
   ]
  },
  {
   "cell_type": "code",
   "execution_count": null,
   "metadata": {},
   "outputs": [],
   "source": [
    "# Summary Data\n",
    "main_list = []\n",
    "\n",
    "sub_list = []\n",
    "title = f'Hyperparameter'\n",
    "sub_list.append(title)\n",
    "\n",
    "hyparam = []\n",
    "hyparam.append(['Maze configuration file', mazeConfig_file])\n",
    "hyparam.append(['Total episode', total_episode])\n",
    "hyparam.append(['Maximum step', max_step])\n",
    "hyparam.append(['Learning rate', alpha])\n",
    "hyparam.append(['Discount factor', gamma])\n",
    "hyparam.append(['Epsilon', epsilon])\n",
    "hyparam.append(['Goal state', goal_state])\n",
    "sub_list.append(hyparam)\n",
    "\n",
    "main_list.append(sub_list)\n",
    "\n",
    "sub_list = []\n",
    "title = f'Results'\n",
    "sub_list.append(title)\n",
    "\n",
    "hyparam = []\n",
    "hyparam.append(['Possible start state', startState_list])\n",
    "hyparam.append(['Learning time (s)', exec_time])\n",
    "hyparam.append(['Shortest path test', f'{pass_count}/{len(records)}'])\n",
    "sub_list.append(hyparam)\n",
    "    \n",
    "main_list.append(sub_list)"
   ]
  },
  {
   "cell_type": "code",
   "execution_count": null,
   "metadata": {
    "scrolled": true
   },
   "outputs": [],
   "source": [
    "main_list"
   ]
  },
  {
   "cell_type": "code",
   "execution_count": null,
   "metadata": {},
   "outputs": [],
   "source": [
    "fn.write_result_summary('temp/test.txt', main_list, quiet = False)"
   ]
  },
  {
   "cell_type": "code",
   "execution_count": null,
   "metadata": {},
   "outputs": [],
   "source": [
    "# Define Mode\n",
    "# run_mode = 'set'\n",
    "run_mode = 'idv'"
   ]
  },
  {
   "cell_type": "code",
   "execution_count": 5,
   "metadata": {},
   "outputs": [
    {
     "data": {
      "text/plain": [
       "'.\\\\results'"
      ]
     },
     "execution_count": 5,
     "metadata": {},
     "output_type": "execute_result"
    }
   ],
   "source": [
    "result_path"
   ]
  },
  {
   "cell_type": "code",
   "execution_count": 6,
   "metadata": {
    "scrolled": false
   },
   "outputs": [
    {
     "name": "stdout",
     "output_type": "stream",
     "text": [
      "CREATING .\\results\\idv_runs\n",
      "CREATING .\\results\\idv_runs\\221207_idv0\n"
     ]
    },
    {
     "ename": "NameError",
     "evalue": "name 'subdir_list' is not defined",
     "output_type": "error",
     "traceback": [
      "\u001b[1;31m---------------------------------------------------------------------------\u001b[0m",
      "\u001b[1;31mNameError\u001b[0m                                 Traceback (most recent call last)",
      "\u001b[1;32m~\\AppData\\Local\\Temp/ipykernel_15816/514202497.py\u001b[0m in \u001b[0;36m<module>\u001b[1;34m\u001b[0m\n\u001b[0;32m      1\u001b[0m \u001b[1;31m# save_dir = fn.gen_idv_folder(result_path, run_mode, status = True)\u001b[0m\u001b[1;33m\u001b[0m\u001b[1;33m\u001b[0m\u001b[0m\n\u001b[1;32m----> 2\u001b[1;33m \u001b[0msave_dir\u001b[0m \u001b[1;33m=\u001b[0m \u001b[0mfn\u001b[0m\u001b[1;33m.\u001b[0m\u001b[0mgen_save_dir\u001b[0m\u001b[1;33m(\u001b[0m\u001b[0mresult_path\u001b[0m\u001b[1;33m,\u001b[0m \u001b[1;36m1\u001b[0m\u001b[1;33m,\u001b[0m \u001b[0mstatus\u001b[0m \u001b[1;33m=\u001b[0m \u001b[1;32mTrue\u001b[0m\u001b[1;33m)\u001b[0m\u001b[1;33m\u001b[0m\u001b[1;33m\u001b[0m\u001b[0m\n\u001b[0m\u001b[0;32m      3\u001b[0m \u001b[0mprint\u001b[0m\u001b[1;33m(\u001b[0m\u001b[0msave_dir\u001b[0m\u001b[1;33m)\u001b[0m\u001b[1;33m\u001b[0m\u001b[1;33m\u001b[0m\u001b[0m\n",
      "\u001b[1;32mD:\\PME_ITB\\softwares\\RL_Sim\\lib\\support.py\u001b[0m in \u001b[0;36mgen_save_dir\u001b[1;34m(result_path, test_case, status)\u001b[0m\n\u001b[0;32m    351\u001b[0m     \u001b[1;32melse\u001b[0m\u001b[1;33m:\u001b[0m\u001b[1;33m\u001b[0m\u001b[1;33m\u001b[0m\u001b[0m\n\u001b[0;32m    352\u001b[0m         \u001b[1;31m## Create subfolder directories in the save folder\u001b[0m\u001b[1;33m\u001b[0m\u001b[1;33m\u001b[0m\u001b[0m\n\u001b[1;32m--> 353\u001b[1;33m         \u001b[0mgen_save_folder\u001b[0m\u001b[1;33m(\u001b[0m\u001b[0msave_path\u001b[0m\u001b[1;33m,\u001b[0m \u001b[0mstatus\u001b[0m\u001b[1;33m=\u001b[0m\u001b[0mstatus\u001b[0m\u001b[1;33m)\u001b[0m\u001b[1;33m\u001b[0m\u001b[1;33m\u001b[0m\u001b[0m\n\u001b[0m\u001b[0;32m    354\u001b[0m \u001b[1;33m\u001b[0m\u001b[0m\n\u001b[0;32m    355\u001b[0m     \u001b[1;32mreturn\u001b[0m \u001b[0msave_path\u001b[0m\u001b[1;33m\u001b[0m\u001b[1;33m\u001b[0m\u001b[0m\n",
      "\u001b[1;32mD:\\PME_ITB\\softwares\\RL_Sim\\lib\\support.py\u001b[0m in \u001b[0;36mgen_save_folder\u001b[1;34m(dir, status)\u001b[0m\n\u001b[0;32m    295\u001b[0m     \u001b[1;32mfor\u001b[0m \u001b[0msubfolder\u001b[0m \u001b[1;32min\u001b[0m \u001b[0msave_subfolder\u001b[0m\u001b[1;33m:\u001b[0m\u001b[1;33m\u001b[0m\u001b[1;33m\u001b[0m\u001b[0m\n\u001b[0;32m    296\u001b[0m         \u001b[0mpath\u001b[0m \u001b[1;33m=\u001b[0m \u001b[0mos\u001b[0m\u001b[1;33m.\u001b[0m\u001b[0mpath\u001b[0m\u001b[1;33m.\u001b[0m\u001b[0mjoin\u001b[0m\u001b[1;33m(\u001b[0m\u001b[0mdir\u001b[0m\u001b[1;33m,\u001b[0m \u001b[0msubfolder\u001b[0m\u001b[1;33m)\u001b[0m\u001b[1;33m\u001b[0m\u001b[1;33m\u001b[0m\u001b[0m\n\u001b[1;32m--> 297\u001b[1;33m         \u001b[0msubdir_list\u001b[0m\u001b[1;33m.\u001b[0m\u001b[0mappend\u001b[0m\u001b[1;33m(\u001b[0m\u001b[0mpath\u001b[0m\u001b[1;33m)\u001b[0m\u001b[1;33m\u001b[0m\u001b[1;33m\u001b[0m\u001b[0m\n\u001b[0m\u001b[0;32m    298\u001b[0m         \u001b[1;32mif\u001b[0m \u001b[0mstatus\u001b[0m\u001b[1;33m:\u001b[0m \u001b[0mprint\u001b[0m\u001b[1;33m(\u001b[0m\u001b[1;34mf'CREATING {path}'\u001b[0m\u001b[1;33m)\u001b[0m\u001b[1;33m\u001b[0m\u001b[1;33m\u001b[0m\u001b[0m\n\u001b[0;32m    299\u001b[0m         \u001b[0mos\u001b[0m\u001b[1;33m.\u001b[0m\u001b[0mmkdir\u001b[0m\u001b[1;33m(\u001b[0m\u001b[0mpath\u001b[0m\u001b[1;33m)\u001b[0m\u001b[1;33m\u001b[0m\u001b[1;33m\u001b[0m\u001b[0m\n",
      "\u001b[1;31mNameError\u001b[0m: name 'subdir_list' is not defined"
     ]
    }
   ],
   "source": [
    "# save_dir = fn.gen_idv_folder(result_path, run_mode, status = True)\n",
    "save_dir = fn.gen_save_dir(result_path, 1, status = True)\n",
    "print(save_dir)"
   ]
  },
  {
   "cell_type": "code",
   "execution_count": null,
   "metadata": {},
   "outputs": [],
   "source": [
    "save_dir = fn.gen_save_dir(result_path, 3, status = True)\n",
    "print(save_dir)"
   ]
  },
  {
   "cell_type": "code",
   "execution_count": null,
   "metadata": {},
   "outputs": [],
   "source": [
    "# # Create experiment subdirectory\n",
    "# save_folder = f'{current_date}_{experiment_name}' \n",
    "# save_path = os.path.join(result_path, save_folder)\n",
    "# if os.path.isdir(save_path):\n",
    "#     print(f'UPDATING {save_folder}')\n",
    "# else:\n",
    "#     print(f'CREATING {save_folder}')\n",
    "#     os.mkdir(save_path)\n",
    "\n",
    "# # Create case subdirectory\n",
    "# mazeConfig_name = os.path.splitext(mazeConfig_file)[0]\n",
    "# config_folder = f\"{mazeConfig_name}_S{start_state:03}G{goal_state:03}\"    \n",
    "# config_path = os.path.join(save_path, config_folder)\n",
    "# if os.path.isdir(config_path):\n",
    "#     print(f'\\tUPDATING {config_folder}')\n",
    "# else:\n",
    "#     print(f'\\tCREATING {config_folder}')\n",
    "#     os.mkdir(config_path)\n",
    "\n",
    "# # Create run subdirectory\n",
    "# duplicate = 0\n",
    "# run_folder = f\"run_{duplicate}\"\n",
    "# run_path = os.path.join(config_path, run_folder)\n",
    "# while (os.path.isdir(run_path)):\n",
    "#     print(f'\\t\\t{run_folder} already exist.')\n",
    "#     duplicate = duplicate + 1\n",
    "#     run_folder = f\"run_{duplicate}\"\n",
    "#     run_path = os.path.join(config_path, run_folder)\n",
    "# if os.path.isdir(run_path)==False:\n",
    "#     os.mkdir(run_path)\n",
    "#     print(f'\\t\\tCREATING {run_folder}')\n",
    "\n",
    "# # Save Error Rate\n",
    "# filename = f'error_rate.txt'\n",
    "# f = open(os.path.join(run_path, filename),\"w\")\n",
    "# text = f''\n",
    "# for i in range(data_variation):\n",
    "#     text += f'{fraction_bit[i]:02}, {error_rate[i]}\\n'\n",
    "# f.write(text)\n",
    "# f.close()\n",
    "# print(\"\\t\\tCreated \"+filename)\n",
    "\n",
    "# # Save Software Results\n",
    "# sw_files = \"sw_results\"\n",
    "# print(f'\\t\\tCREATING {sw_files}')\n",
    "# sw_path = os.path.join(run_path, sw_files)\n",
    "# os.mkdir(sw_path)\n",
    "# # Save SW Arrays\n",
    "# filename = f'sw_qtable.csv'\n",
    "# target_path = os.path.join(sw_path, filename)\n",
    "# np.savetxt(target_path, sw_qTable, delimiter=\",\")\n",
    "# print(\"\\t\\t>> Created \"+filename)\n",
    "\n",
    "# filename = f'sw_cr.csv'\n",
    "# target_path = os.path.join(sw_path, filename)\n",
    "# np.savetxt(target_path, sw_cr, delimiter=\",\")\n",
    "# print(\"\\t\\t>> Created \"+filename)\n",
    "\n",
    "# filename = f'sw_steps.csv'\n",
    "# target_path = os.path.join(sw_path, filename)\n",
    "# np.savetxt(target_path, sw_steps, delimiter=\",\")\n",
    "# print(\"\\t\\t>> Created \"+filename)\n",
    "\n",
    "# filename = f'sw_exploit.csv'\n",
    "# target_path = os.path.join(sw_path, filename)\n",
    "# np.savetxt(target_path, sw_exploit, delimiter=\",\")\n",
    "# print(\"\\t\\t>> Created \"+filename)\n",
    "\n",
    "# filename = f'sw_explore.csv'\n",
    "# target_path = os.path.join(sw_path, filename)\n",
    "# np.savetxt(target_path, sw_explore, delimiter=\",\")\n",
    "# print(\"\\t\\t>> Created \"+filename)\n",
    "\n",
    "# # Save Hardware Results\n",
    "# hw_files = \"hw_results\"\n",
    "# hw_path = os.path.join(run_path, hw_files)\n",
    "# os.mkdir(hw_path)\n",
    "# print(f'\\t\\tCREATING {hw_files}')\n",
    "# for i in range(data_variation):\n",
    "#     sub_file = f\"{fraction_bit[i]:02}frac\"\n",
    "#     sub_path = os.path.join(hw_path, sub_file)\n",
    "#     os.mkdir(sub_path)\n",
    "#     print(f'\\t\\t\\tCREATING {sub_file}')\n",
    "    \n",
    "#     # Save HW Arrays\n",
    "#     filename = \"hw_qtable.csv\"\n",
    "#     target_path = os.path.join(sub_path, filename)\n",
    "#     np.savetxt(target_path, hw_qTable[i], delimiter=\",\")\n",
    "#     print(\"\\t\\t\\t>> Created \"+filename)\n",
    "    \n",
    "#     filename = \"hw_cr.csv\"\n",
    "#     target_path = os.path.join(sub_path, filename)\n",
    "#     np.savetxt(target_path, hw_cr[i], delimiter=\",\")\n",
    "#     print(\"\\t\\t\\t>> Created \"+filename)\n",
    "    \n",
    "#     filename = \"hw_steps.csv\"\n",
    "#     target_path = os.path.join(sub_path, filename)\n",
    "#     np.savetxt(target_path, hw_steps[i], delimiter=\",\")\n",
    "#     print(\"\\t\\t\\t>> Created \"+filename)\n",
    "    \n",
    "#     filename = \"hw_exploit.csv\"\n",
    "#     target_path = os.path.join(sub_path, filename)\n",
    "#     np.savetxt(target_path, hw_exploit[i], delimiter=\",\")\n",
    "#     print(\"\\t\\t\\t>> Created \"+filename)\n",
    "    \n",
    "#     filename = \"hw_explore.csv\"\n",
    "#     target_path = os.path.join(sub_path, filename)\n",
    "#     np.savetxt(target_path, hw_explore[i], delimiter=\",\")\n",
    "#     print(\"\\t\\t\\t>> Created \"+filename)\n",
    "\n",
    "#     # Save non array metrics in one file\n",
    "#     filename = \"summary.txt\"\n",
    "#     print(\"\\t\\t\\t>> Created \"+filename)\n",
    "\n",
    "#     ## Open file to write\n",
    "#     f = open(os.path.join(sub_path, filename),\"w\")\n",
    "\n",
    "#     ## Construct Contents\n",
    "#     text = f\"\"\n",
    "#     text += f\"Maze Dimension = {maze_x}x{maze_y}\\n\"\n",
    "#     text += f\"Maze Config = {maze_config}\\n\"\n",
    "#     text += f\"Maze Goal = {goal_state:03}\\n\"\n",
    "#     text += f\"Learning Episodes = {total_episode}\\n\"\n",
    "#     text += f\"Learning Rate (α) = {alpha_val}\\n\"\n",
    "#     text += f\"Discount Factor (γ) = {gamma_val}\\n\"\n",
    "#     text += f\"Epsilon (ε) = {epsilon_val}\\n\"\n",
    "#     text += f\"Fraction Bit = {fraction_bit[i]} \\n\"\n",
    "#     text += f\"Total clock cycles = {hw_learnCC[i]}\\n\"\n",
    "#     text += f\"Number of Q writes = {hw_nWrite[i]}\\n\"\n",
    "#     text += f\"PL Clock Freq. (MHz) = {hw_fclk[i]}\\n\"\n",
    "#     text += f\"Throughput (MSps) = {hw_throughput[i]/1e6}\\n\"\n",
    "#     text += f\"Software Learning Time (s) = {sw_trueLearnTime}\\n\"\n",
    "#     text += f\"Hardware Learning Time (ms) = {hw_learnTime[i]*1e3}\\n\"\n",
    "#     text += f\"True Hardware Learning Time (ms) = {hw_trueLearnTime[i]*1e3}\\n\"\n",
    "#     text += f\"PS-PL Communication Delay (ms) = {hw_PSPLDelay[i]*1e3}\\n\"\n",
    "#     text += f\"Error Rate (%)= {error_rate[i]}\\n\"\n",
    "\n",
    "#     ## Save to file and print contents\n",
    "#     f.write(text)\n",
    "\n",
    "#     ## Close file\n",
    "#     f.close()"
   ]
  },
  {
   "cell_type": "markdown",
   "metadata": {},
   "source": [
    "## "
   ]
  }
 ],
 "metadata": {
  "kernelspec": {
   "display_name": "Python 3 (ipykernel)",
   "language": "python",
   "name": "python3"
  },
  "language_info": {
   "codemirror_mode": {
    "name": "ipython",
    "version": 3
   },
   "file_extension": ".py",
   "mimetype": "text/x-python",
   "name": "python",
   "nbconvert_exporter": "python",
   "pygments_lexer": "ipython3",
   "version": "3.10.0"
  },
  "vscode": {
   "interpreter": {
    "hash": "cfbecc6b7b02738b8f46f7104a81cce25d19a20dda612d7992deb4b3b8dee98d"
   }
  }
 },
 "nbformat": 4,
 "nbformat_minor": 2
}
