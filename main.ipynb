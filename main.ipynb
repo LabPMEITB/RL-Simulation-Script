{
 "cells": [
  {
   "attachments": {},
   "cell_type": "markdown",
   "metadata": {},
   "source": [
    "File created by rydhslmy at 2022/11/30 09:00 AM.\\\n",
    "Description : Reinforcement Learning Algorithm for finding shortest path in a Maze.\\\n",
    "Purpose : Act as comparison for the Deep Q-Network models that is to be created."
   ]
  },
  {
   "cell_type": "markdown",
   "metadata": {},
   "source": [
    "# Preparation Stage"
   ]
  },
  {
   "cell_type": "code",
   "execution_count": null,
   "metadata": {},
   "outputs": [],
   "source": [
    "## Import libraries\n",
    "import os\n",
    "import random\n",
    "import math\n",
    "from IPython.display import SVG\n",
    "import numpy as np\n",
    "import itertools\n",
    "\n",
    "## Import custom\n",
    "from lib import qLearning as ql\n",
    "from lib import support as fn\n",
    "from lib import mazeSVG as m"
   ]
  },
  {
   "cell_type": "code",
   "execution_count": null,
   "metadata": {},
   "outputs": [],
   "source": [
    "## Define main directories\n",
    "configDir = 'maze_config'\n",
    "resultDir = 'results'\n",
    "tempDir = 'temp'\n",
    "cDir = '.'\n",
    "# c_dir = os.getcwd()\n",
    "\n",
    "## Generate paths\n",
    "## Path to maze config files\n",
    "configPath = fn.gen_path(cDir, configDir)\n",
    "\n",
    "## Path to maze results folder\n",
    "resultPath = fn.gen_path(cDir, resultDir)\n",
    "\n",
    "## Path to experimental results folder\n",
    "tempPath = fn.gen_path(cDir, tempDir)"
   ]
  },
  {
   "cell_type": "code",
   "execution_count": null,
   "metadata": {
    "scrolled": true
   },
   "outputs": [],
   "source": [
    "## Select maze config file\n",
    "selectedConfig = fn.select_maze(configPath)\n",
    "\n",
    "## Read maze config file\n",
    "configData = fn.load_mazeConfig(configPath, selectedConfig)\n",
    "\n",
    "## Set Goal State Reward\n",
    "goalReward = 10\n",
    "\n",
    "mazeSVG = []\n",
    "## Choose a random goal state for all maze loaded and update the RT matrix\n",
    "for data in configData:\n",
    "    idx = 1 + configData.index(data)\n",
    "    print(f'Choosing Goal State randomly for the maze in config data {idx}...')\n",
    "    \n",
    "    ## Select goal state randomly from possible candidates\n",
    "    data['MEP'], data['GS'], data['SSP'] = fn.randomize_goal(data['NS'])\n",
    "    \n",
    "    print(f\"\\tMaze End Points :{data['MEP']}\")\n",
    "    print(f\"\\tChosen Goal State : {data['GS']}\")\n",
    "    print(f\"\\tStart State Pool : {data['SSP']}\")\n",
    "    \n",
    "    ## Update Reward Matrix\n",
    "    for i in range(data['N']):\n",
    "        for j in range(data['Z']):\n",
    "            if (data['NS'][i][j]==data['GS'])&(i != data['GS']):\n",
    "                data['RT'][i][j] = goalReward\n",
    "    print('\\tCurrent Reward list updated.')\n",
    "\n",
    "    ## Display maze for all loaded config data\n",
    "    blankMaze = 'temp/temp.svg'\n",
    "    mSVG = m.drawMaze(data['mX'], data['mY'], data['NS'])\n",
    "    mSVG.gen_svg(blankMaze)\n",
    "    display(SVG(blankMaze))\n",
    "    mazeSVG.append(mSVG)"
   ]
  },
  {
   "cell_type": "code",
   "execution_count": null,
   "metadata": {
    "scrolled": true
   },
   "outputs": [],
   "source": [
    "## Set Hyparameters\n",
    "list_of_E = [10000] # List of total episodes\n",
    "list_of_T_base = [10] # List of total steps\n",
    "# list_of_alpha = [0.125, 0.25] # Learning Rate\n",
    "list_of_alpha = [0.125] # Learning Rate\n",
    "list_of_gamma = [0.875] # Discount Factor\n",
    "list_of_epsilon = [0.99]\n",
    "\n",
    "## Generate hyperparameter sets\n",
    "tempList = [list_of_E, list_of_T_base, list_of_alpha, list_of_gamma, list_of_epsilon]\n",
    "hypSets = list(itertools.product(*tempList))"
   ]
  },
  {
   "cell_type": "code",
   "execution_count": null,
   "metadata": {},
   "outputs": [],
   "source": [
    "class runSet:\n",
    "    def __init__(self, mazeConfig, hyp, goalReward = 10):\n",
    "        # Maze Environment\n",
    "        self.mX = mazeConfig['mX']\n",
    "        self.mY = mazeConfig['mY']\n",
    "        self.N = mazeConfig['N']\n",
    "        self.Z = mazeConfig['Z']\n",
    "        self.NS = mazeConfig['NS']\n",
    "        self.RT = mazeConfig['RT']\n",
    "        self.MEP = mazeConfig['MEP']\n",
    "        self.GS = mazeConfig['GS']\n",
    "        self.SSP = mazeConfig['SSP']\n",
    "\n",
    "        # Simulation hyperparameter\n",
    "        self.E = hyp[0]\n",
    "        self.T = hyp[1]*self.N\n",
    "        self.alph = hyp[2]\n",
    "        self.gamm = hyp[3]\n",
    "        self.epsi = hyp[4]\n",
    "        \n",
    "        # Maze SVG Image\n",
    "        self.mSVG = m.drawMaze(self.mX, self.mY, self.NS)\n",
    "\n",
    "    def print_env(self):\n",
    "        return None\n",
    "    def print_hyp(self):\n",
    "        return None\n"
   ]
  },
  {
   "cell_type": "code",
   "execution_count": null,
   "metadata": {},
   "outputs": [],
   "source": [
    "## Calculate the total number of run sets\n",
    "### Get the total number of environment variation\n",
    "envVar = len(configData)\n",
    "print(envVar)\n",
    "\n",
    "### Get the total number of hyperparameter variation\n",
    "hypVar = len(hypSets)\n",
    "print(hypVar)\n",
    "\n",
    "### Calculate number of run sets\n",
    "totalRuns = envVar*hypVar\n",
    "\n",
    "## Generate hyperparameter sets\n",
    "tempList = [configData, hypSets]\n",
    "runSetList = list(itertools.product(*tempList))\n",
    "print(len(runSetList))\n",
    "## Update the T hyperparameter\n",
    "runSets = []\n",
    "for item in runSetList:\n",
    "#     print(item)\n",
    "#     temp = runSet(item[0], item[1])\n",
    "    runSets.append(runSet(item[0], item[1]))"
   ]
  },
  {
   "cell_type": "code",
   "execution_count": null,
   "metadata": {
    "scrolled": true
   },
   "outputs": [],
   "source": [
    "for runSet in runSets:\n",
    "    idx = runSets.index(runSet)+1\n",
    "    print(f\"[Run Set {idx}/{len(runSets)}]\")\n",
    "    print(f\"\\tMaze Dimension   : {runSet.mX}×{runSet.mY}\")\n",
    "    print(f\"\\tMaze End Points  : {runSet.MEP}\")\n",
    "    print(f\"\\tGoal State       : S{runSet.GS}\")\n",
    "    print(f\"\\tStart State Pool : {runSet.SSP}\")\n",
    "    print(f\"\\tTotal Episode    : {runSet.E}\")\n",
    "    print(f\"\\tMaximum Step     : {runSet.T}\")\n",
    "    print(f\"\\tLearning Rate    : {runSet.alph}\")\n",
    "    print(f\"\\tDiscount Factor  : {runSet.gamm}\")\n",
    "    print(f\"\\tEpsilon          : {runSet.epsi}\")\n",
    "    print()"
   ]
  },
  {
   "cell_type": "markdown",
   "metadata": {},
   "source": [
    " ### Perform Software Simulations"
   ]
  },
  {
   "cell_type": "markdown",
   "metadata": {},
   "source": [
    "Inisialisasi simulasi *Q-learning* sesuai dengan jumlah *simulation sets* yang telah dihasilkan"
   ]
  },
  {
   "cell_type": "code",
   "execution_count": null,
   "metadata": {
    "scrolled": false
   },
   "outputs": [],
   "source": [
    "## Intitialize empty list for the simulations\n",
    "sw_list = []\n",
    "\n",
    "## Initialize simulation for each hyperparameter sets\n",
    "for run in runSets:\n",
    "    ### Initialize Software Model and store in the simulation list\n",
    "    i = 1 + runSets.index(run)\n",
    "    print(f'[INITIALIZE SIMULATION {i}/{len(runSets)}]')\n",
    "    sw = ql.qrl(maze_x = run.mX,\n",
    "                maze_y = run.mY,\n",
    "                total_state = run.N,\n",
    "                total_action = run.Z,\n",
    "                learning_rate = run.alph, \n",
    "                discount_factor = run.gamm,\n",
    "                initial_exploration_rate = run.epsi,\n",
    "                max_episode = run.E,\n",
    "                max_step = run.T,\n",
    "                goal_state = run.GS,\n",
    "                reward_matrix = run.RT,\n",
    "                ns_matrix = run.NS,\n",
    "                random_pool = run.SSP\n",
    "               )\n",
    "    sw_list.append(sw)\n",
    "total_run = len(runSets)"
   ]
  },
  {
   "cell_type": "code",
   "execution_count": null,
   "metadata": {},
   "outputs": [],
   "source": [
    "## Run all the simulation in the simulation list\n",
    "for i in range(total_run):\n",
    "    ### Run simulation and get runtime\n",
    "    print(f'[Simulation {i+1}/{len(sw_list)}]')\n",
    "    sw_list[i].start()"
   ]
  },
  {
   "cell_type": "code",
   "execution_count": null,
   "metadata": {
    "scrolled": true
   },
   "outputs": [],
   "source": [
    "## Intialize empty list to store the convergence test results \n",
    "conv_test_results_list = []\n",
    "\n",
    "## Perform Convergence Test for each simulation\n",
    "for i in range(total_run):\n",
    "    ### Run the convergence test and read the results\n",
    "    print(f'{\"=\"*15}[CONVERGENCE TEST {i+1}/{total_run}]{\"=\"*15}')\n",
    "    pass_count, records, fail_list = sw_list[i].shortest_path_test(quiet=True)\n",
    "            \n",
    "    ### Add results to the convergence test list\n",
    "    conv_test_results = [pass_count, records, fail_list]\n",
    "    conv_test_results_list.append(conv_test_results)\n",
    "        \n",
    "    ### [OPTIONAL] Display the results of the convergence test\n",
    "    idx = 0\n",
    "    for path in records:\n",
    "        idx += 1\n",
    "        print(f' Shortest path for Test {idx}:')\n",
    "        temp = 'temp/temp.svg'\n",
    "        runSets[i].mSVG.gen_svg(temp,path=path)\n",
    "        display(SVG(temp))"
   ]
  },
  {
   "cell_type": "markdown",
   "metadata": {},
   "source": [
    " ### Save run results"
   ]
  },
  {
   "cell_type": "markdown",
   "metadata": {},
   "source": [
    "Menyimpan semua hasil *simulation run* yang telah dilakukan."
   ]
  },
  {
   "cell_type": "code",
   "execution_count": null,
   "metadata": {
    "scrolled": true
   },
   "outputs": [],
   "source": [
    "## Generate Save Directory\n",
    "save_dir = fn.gen_save_dir(resultPath, total_run, status = True)"
   ]
  },
  {
   "cell_type": "code",
   "execution_count": null,
   "metadata": {
    "scrolled": false
   },
   "outputs": [],
   "source": [
    "## Generate and save State Visit Count for each simulation run\n",
    "for i in range(total_run):\n",
    "    ### Get state visit count map\n",
    "    svc = sw_list[i].state_visit_count.reshape((runSets[i].mX, runSets[i].mY))\n",
    "    \n",
    "    ### Generate save path\n",
    "    if total_run == 1:\n",
    "        save_path = save_dir\n",
    "    else:\n",
    "        digitCount=0\n",
    "        n = total_run\n",
    "        while(n > 0):\n",
    "            digitCount = digitCount + 1\n",
    "            n= n // 10\n",
    "        idx = str(i).zfill(digitCount)\n",
    "        save_path = os.path.join(save_dir, f'run_{idx}')\n",
    "\n",
    "    ### Save state visit count map to the save path    \n",
    "    fn.vis_svc(svc, gen_file=save_path, show=False)"
   ]
  },
  {
   "cell_type": "code",
   "execution_count": null,
   "metadata": {},
   "outputs": [],
   "source": [
    "## Generate and save Q-Table Heatmap for each simulation run\n",
    "for i in range(total_run):\n",
    "    ### Generate save path\n",
    "    if total_run == 1:\n",
    "        save_path = save_dir\n",
    "    else:\n",
    "        digitCount=0\n",
    "        n = total_run\n",
    "        while(n > 0):\n",
    "            digitCount = digitCount + 1\n",
    "            n= n // 10\n",
    "        idx = str(i).zfill(digitCount)\n",
    "        save_path = os.path.join(save_dir, f'run_{idx}')\n",
    "    \n",
    "    ### Generate Q-Table Heatmap and save to the save path\n",
    "    fn.display_qTable(sw_list[i].Q, gen_file=save_path)"
   ]
  },
  {
   "cell_type": "code",
   "execution_count": null,
   "metadata": {},
   "outputs": [],
   "source": [
    "## Generate and save Cumulative Rewards for each simulation run\n",
    "for i in range(total_run):\n",
    "    ### Generate save path\n",
    "    if total_run == 1:\n",
    "        save_path = save_dir\n",
    "    else:\n",
    "        digitCount=0\n",
    "        n = total_run\n",
    "        while(n > 0):\n",
    "            digitCount = digitCount + 1\n",
    "            n= n // 10\n",
    "        idx = str(i).zfill(digitCount)\n",
    "        save_path = os.path.join(save_dir, f'run_{idx}')\n",
    "    \n",
    "    ### Generate Cumulative Reward Plot and save to the save path\n",
    "    fn.plot(sw_list[i].cumulative_rewards, gen_file=save_path, title='cumulativeReward')"
   ]
  },
  {
   "cell_type": "code",
   "execution_count": null,
   "metadata": {},
   "outputs": [],
   "source": [
    "## Generate and save Convergence Map for each simulation run\n",
    "for i in range(total_run):\n",
    "    ### Generate Max Matrix\n",
    "    max_matrix = fn.gen_maxMatrix(sw_list[i].Q)\n",
    "    \n",
    "    ### Generate Save Path\n",
    "    if total_run == 1:\n",
    "        save_path = save_dir\n",
    "    else:\n",
    "        digitCount=0\n",
    "        n = total_run\n",
    "        while(n > 0):\n",
    "            digitCount = digitCount + 1\n",
    "            n= n // 10\n",
    "        idx = str(i).zfill(digitCount)\n",
    "        save_path = os.path.join(save_dir, f'run_{idx}')\n",
    "\n",
    "    ### Generate Convergence Map and save to Save Path\n",
    "    mcm_file = 'convergence_map.svg'\n",
    "    mcm_dir = os.path.join(save_path, mcm_file)\n",
    "    runSets[i].mSVG.gen_convergenceMap(mcm_dir, max_matrix, runSets[i].GS)\n",
    "    display(SVG(mcm_dir))"
   ]
  },
  {
   "cell_type": "code",
   "execution_count": null,
   "metadata": {},
   "outputs": [],
   "source": [
    "## Generate and save Maze Case for each simulation run\n",
    "for i in range(total_run):\n",
    "    ### Generate Save Path\n",
    "    if total_run == 1:\n",
    "        save_path = save_dir\n",
    "    else:\n",
    "        digitCount=0\n",
    "        n = total_run\n",
    "        while(n > 0):\n",
    "            digitCount = digitCount + 1\n",
    "            n= n // 10\n",
    "        idx = str(i).zfill(digitCount)\n",
    "        save_path = os.path.join(save_dir, f'run_{idx}')\n",
    "\n",
    "    ### Generate Maze Case and save to Save Path\n",
    "    maze_case_file = 'maze_case.svg'\n",
    "    maze_case_dir = os.path.join(save_path, maze_case_file)\n",
    "    runSets[i].mSVG.gen_svg(maze_case_dir, goal_st=runSets[i].GS)\n",
    "    display(SVG(maze_case_dir))"
   ]
  },
  {
   "cell_type": "code",
   "execution_count": null,
   "metadata": {},
   "outputs": [],
   "source": [
    "## Generate and save Summary Data for each simulation run\n",
    "for i in range(total_run):\n",
    "    ### Initialize Summary Data\n",
    "    main_list = []\n",
    "\n",
    "    ### Add Hyperparameter data\n",
    "    sub_list = []\n",
    "    title = f'Hyperparameter'\n",
    "    sub_list.append(title)\n",
    "    ###\n",
    "    hyparam = []\n",
    "    hyparam.append(['Maze configuration file', selectedConfig])\n",
    "    hyparam.append(['Total episode', runSets[i].E])\n",
    "    hyparam.append(['Maximum step', runSets[i].T])\n",
    "    hyparam.append(['Learning rate', runSets[i].alph])\n",
    "    hyparam.append(['Discount factor', runSets[i].gamm])\n",
    "    hyparam.append(['Epsilon', runSets[i].epsi])\n",
    "    hyparam.append(['Goal state', runSets[i].GS])\n",
    "    sub_list.append(hyparam)\n",
    "    ###\n",
    "    main_list.append(sub_list)\n",
    "\n",
    "    ### Add Results data\n",
    "    sub_list = []\n",
    "    title = f'Results'\n",
    "    sub_list.append(title)\n",
    "    pass_count, records, fail_list = conv_test_results_list[i]\n",
    "    ###\n",
    "    hyparam = []\n",
    "    hyparam.append(['Start State Pool', runSets[i].SSP])\n",
    "    hyparam.append(['Learning time (s)', sw_list[i].runTime])\n",
    "    hyparam.append(['Shortest path test', f'{pass_count}/{len(records)}'])\n",
    "    if len(fail_list): hyparam.append(['Failed Case', f'{fail_list}'])\n",
    "    sub_list.append(hyparam)\n",
    "    ###\n",
    "    main_list.append(sub_list)\n",
    "    \n",
    "    ### Generate Save Path\n",
    "    if total_run == 1:\n",
    "        save_path = save_dir\n",
    "    else:\n",
    "        digitCount=0\n",
    "        n = total_run\n",
    "        while(n > 0):\n",
    "            digitCount = digitCount + 1\n",
    "            n= n // 10\n",
    "        idx = str(i).zfill(digitCount)\n",
    "        save_path = os.path.join(save_dir, f'run_{idx}')\n",
    "\n",
    "    ### Write Summary Data and save to Save Path \n",
    "    summary_file = 'summary.txt'\n",
    "    fn.write_result_summary(summary_file, main_list, target_dir=save_path, quiet=False)"
   ]
  },
  {
   "cell_type": "code",
   "execution_count": null,
   "metadata": {},
   "outputs": [],
   "source": [
    "## Save Convergence Test Result for each simulation run\n",
    "subfolder = 'shortest_path_test'\n",
    "for i in range(total_run):\n",
    "    ### Generate Save Path\n",
    "    if total_run == 1:\n",
    "        save_path = save_dir\n",
    "    else:\n",
    "        digitCount=0\n",
    "        n = total_run\n",
    "        while(n > 0):\n",
    "            digitCount = digitCount + 1\n",
    "            n= n // 10\n",
    "        idx = str(i).zfill(digitCount)\n",
    "        save_path = os.path.join(save_dir, f'run_{idx}')\n",
    "        \n",
    "    ### Read Records from Convergence Test Result\n",
    "    records = conv_test_results_list[i][1]\n",
    "    \n",
    "    ### Save all of the Records\n",
    "    for path in records:\n",
    "        st = path[0][0]\n",
    "        st1 = path[-1][-1]\n",
    "        filename = f'S{st}_S{st1}.svg'\n",
    "        sub_dir = os.path.join(save_path, subfolder)\n",
    "        file_dir = os.path.join(sub_dir, filename)\n",
    "        runSets[i].mSVG.gen_svg(file_dir,path=path)"
   ]
  },
  {
   "cell_type": "code",
   "execution_count": null,
   "metadata": {},
   "outputs": [],
   "source": [
    "## Save Raw Data for each simulation run\n",
    "subfolder = 'raw_data'\n",
    "for i in range(total_run):\n",
    "    ### Generate Save Path\n",
    "    if total_run == 1:\n",
    "        save_path = save_dir\n",
    "    else:\n",
    "        digitCount=0\n",
    "        n = total_run\n",
    "        while(n > 0):\n",
    "            digitCount = digitCount + 1\n",
    "            n= n // 10\n",
    "        idx = str(i).zfill(digitCount)\n",
    "        save_path = os.path.join(save_dir, f'run_{idx}')\n",
    "    sub_dir = os.path.join(save_path, subfolder)\n",
    "\n",
    "    ### Write Q-Matrix File to Save Path\n",
    "    filename = 'qMatrix.txt'\n",
    "    target_path = os.path.join(sub_dir, filename)\n",
    "    np.savetxt(target_path, sw_list[i].Q, delimiter=\",\")\n",
    "\n",
    "    ### Write Exploration Count File to Save Path\n",
    "    filename = 'expPerEpisode.txt'\n",
    "    target_path = os.path.join(sub_dir, filename)\n",
    "    np.savetxt(target_path, sw_list[i].exploration_per_episode, delimiter=\",\")\n",
    "\n",
    "    ### Write Total Step Count File to Save Path\n",
    "    filename = 'stepPerEpisode.txt'\n",
    "    target_path = os.path.join(sub_dir, filename)\n",
    "    np.savetxt(target_path, sw_list[i].step_per_episode, delimiter=\",\")\n",
    "\n",
    "    ### Write State Visits File to Save Path\n",
    "    filename = 'stateVisits.txt'\n",
    "    target_path = os.path.join(sub_dir, filename)\n",
    "    ### Get state visit count map\n",
    "    svc = sw_list[i].state_visit_count.reshape((runSets[i].mX, runSets[i].mY))\n",
    "    np.savetxt(target_path, svc, delimiter=\",\")\n",
    "\n",
    "    ### Write Cumulative Reward File to Save Path\n",
    "    filename = 'cumulativeReward.txt'\n",
    "    target_path = os.path.join(sub_dir, filename)\n",
    "    np.savetxt(target_path, sw_list[i].cumulative_rewards, delimiter=\",\")"
   ]
  },
  {
   "cell_type": "code",
   "execution_count": null,
   "metadata": {
    "scrolled": false
   },
   "outputs": [],
   "source": [
    "# fn.plot(sw.exploration_per_episode, title='Exploration per episode')\n",
    "# fn.plot(sw.step_per_episode, title='Total Step per episode')"
   ]
  },
  {
   "cell_type": "markdown",
   "metadata": {},
   "source": [
    "## "
   ]
  }
 ],
 "metadata": {
  "kernelspec": {
   "display_name": "Python 3 (ipykernel)",
   "language": "python",
   "name": "python3"
  },
  "language_info": {
   "codemirror_mode": {
    "name": "ipython",
    "version": 3
   },
   "file_extension": ".py",
   "mimetype": "text/x-python",
   "name": "python",
   "nbconvert_exporter": "python",
   "pygments_lexer": "ipython3",
   "version": "3.9.13"
  },
  "vscode": {
   "interpreter": {
    "hash": "cfbecc6b7b02738b8f46f7104a81cce25d19a20dda612d7992deb4b3b8dee98d"
   }
  }
 },
 "nbformat": 4,
 "nbformat_minor": 2
}
