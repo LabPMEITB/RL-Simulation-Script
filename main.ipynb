{
 "cells": [
  {
   "cell_type": "code",
   "execution_count": 1,
   "metadata": {},
   "outputs": [],
   "source": [
    "# File created by rydhslmy at 2022/11/30 09:00 AM.\n",
    "# Description : Reinforcement Learning Algorithm for finding shortest path in a Maze.\n",
    "# Purpose : Act as comparison for the Deep Q-Network models that is to be created."
   ]
  },
  {
   "cell_type": "code",
   "execution_count": 2,
   "metadata": {},
   "outputs": [],
   "source": [
    "# ---------- Import Libraries ---------- #\n",
    "# Import libraries\n",
    "import os\n",
    "import random\n",
    "import math\n",
    "from IPython.display import SVG\n",
    "import numpy as np\n",
    "\n",
    "# Import custom\n",
    "from lib import qLearning as ql\n",
    "from lib import support as fn\n",
    "from lib import mazeSVG"
   ]
  },
  {
   "cell_type": "code",
   "execution_count": 3,
   "metadata": {},
   "outputs": [
    {
     "name": "stdout",
     "output_type": "stream",
     "text": [
      "File 'maze_config' exist in '.'\n",
      "File 'results' exist in '.'\n",
      "File 'temp' exist in '.'\n"
     ]
    }
   ],
   "source": [
    "# --------- Create Directories --------- #\n",
    "## Define main directories\n",
    "config_dir = 'maze_config'\n",
    "result_dir = 'results'\n",
    "temp_dir = 'temp'\n",
    "c_dir = '.'\n",
    "# c_dir = os.getcwd()\n",
    "\n",
    "## Generate paths\n",
    "# Path to maze config files\n",
    "config_path = fn.gen_path(c_dir, config_dir)\n",
    "\n",
    "## Path to maze results folder\n",
    "result_path = fn.gen_path(c_dir, result_dir)\n",
    "\n",
    "## Path to experimental results folder\n",
    "temp_path = fn.gen_path(c_dir, temp_dir)"
   ]
  },
  {
   "cell_type": "code",
   "execution_count": null,
   "metadata": {},
   "outputs": [],
   "source": [
    "## ---------- Load Maze Config ---------- #\n",
    "## Select maze config file\n",
    "mazeConfig_file = fn.select_maze(config_path)\n",
    "\n",
    "## Read maze config file\n",
    "maze_config = fn.load_mazeConfig(config_path, mazeConfig_file)\n",
    "\n",
    "## Pass content of maze_config\n",
    "maze_x = maze_config[0]\n",
    "maze_y = maze_config[1]\n",
    "total_state = maze_config[2]\n",
    "total_act = maze_config[3]\n",
    "ns_list = maze_config[4]\n",
    "rt_list = maze_config[5]\n",
    "\n",
    "## Display Maze\n",
    "# blank_maze = os.path.join(temp_path, 'blank_maze.svg')\n",
    "# blank_maze = os.path.join('temp', 'blank_maze.svg')\n",
    "blank_maze = 'temp/temp.svg'\n",
    "mSVG = mazeSVG.drawMaze(maze_x, maze_y, ns_list)\n",
    "mSVG.gen_svg(blank_maze)\n",
    "display(SVG(blank_maze))"
   ]
  },
  {
   "cell_type": "code",
   "execution_count": null,
   "metadata": {},
   "outputs": [],
   "source": [
    "## Select goal state randomly from possible candidates\n",
    "possible_goals = fn.find_goals(ns_list)\n",
    "goal_state = random.choice(possible_goals)\n",
    "# goal_state = 3\n",
    "\n",
    "# Create list of possible start\n",
    "startState_list = fn.find_goals(ns_list)\n",
    "startState_list.remove(goal_state)\n",
    "\n",
    "print(possible_goals)\n",
    "print(startState_list)\n",
    "print(goal_state)"
   ]
  },
  {
   "cell_type": "code",
   "execution_count": null,
   "metadata": {},
   "outputs": [],
   "source": [
    "# Set Goal State Reward\n",
    "goal_reward = 10\n",
    "\n",
    "# Update Reward Matrix\n",
    "if (goal_state > (total_state-1)):\n",
    "    print(\"Goal State cannot be used. Try again\")\n",
    "else:\n",
    "    for i in range(total_state):\n",
    "        for j in range(total_act):\n",
    "            if (ns_list[i][j]==goal_state)&(i != goal_state):\n",
    "                rt_list[i][j] = goal_reward\n",
    "    print('Current Reward list updated.')"
   ]
  },
  {
   "cell_type": "code",
   "execution_count": null,
   "metadata": {},
   "outputs": [],
   "source": [
    "# Set simulation's hyparameters\n",
    "total_episode = 1000\n",
    "max_step = 10*total_state\n",
    "alpha = 0.125 # Learning Rate\n",
    "gamma = 0.875 # Discount Factor\n",
    "epsilon = 0.99"
   ]
  },
  {
   "cell_type": "code",
   "execution_count": null,
   "metadata": {},
   "outputs": [],
   "source": [
    "## Brute force learning\n",
    "\n",
    "# Initialize Software Model\n",
    "sw = ql.qrl(maze_x = maze_x,\n",
    "            maze_y = maze_y,\n",
    "            total_state = total_state,\n",
    "            total_action = total_act,\n",
    "            learning_rate = alpha, \n",
    "            discount_factor = gamma,\n",
    "            initial_exploration_rate = epsilon,\n",
    "            max_episode = total_episode,\n",
    "            max_step = max_step,\n",
    "            goal_state = goal_state,\n",
    "            reward_matrix = rt_list,\n",
    "            ns_matrix = ns_list,\n",
    "            random_pool = possible_goals\n",
    "           )\n",
    "\n",
    "# Start software learning\n",
    "exec_time = sw.start()"
   ]
  },
  {
   "cell_type": "code",
   "execution_count": null,
   "metadata": {
    "scrolled": false
   },
   "outputs": [],
   "source": [
    "pass_count, records, fail_list = sw.shortest_path_test()\n",
    "\n",
    "for path in records:\n",
    "    temp = 'temp/temp.svg'\n",
    "    mSVG.gen_svg(blank_maze,path=path)\n",
    "    display(SVG(blank_maze))"
   ]
  },
  {
   "cell_type": "code",
   "execution_count": null,
   "metadata": {
    "scrolled": false
   },
   "outputs": [],
   "source": [
    "svc = sw.state_visit_count.reshape((maze_x, maze_y))\n",
    "fn.vis_svc(svc)"
   ]
  },
  {
   "cell_type": "code",
   "execution_count": null,
   "metadata": {},
   "outputs": [],
   "source": [
    "fn.plot(sw.cumulative_rewards, title='Cumulative Reward')"
   ]
  },
  {
   "cell_type": "code",
   "execution_count": null,
   "metadata": {
    "scrolled": false
   },
   "outputs": [],
   "source": [
    "fn.plot(sw.exploration_per_episode, title='Exploration per episode')"
   ]
  },
  {
   "cell_type": "code",
   "execution_count": null,
   "metadata": {
    "scrolled": true
   },
   "outputs": [],
   "source": [
    "fn.plot(sw.step_per_episode, title='Total Step per episode')"
   ]
  },
  {
   "cell_type": "code",
   "execution_count": null,
   "metadata": {
    "scrolled": true
   },
   "outputs": [],
   "source": [
    "array1 = np.array(sw.step_per_episode)\n",
    "array2 = np.array(sw.exploration_per_episode)\n",
    "subtracted_array = np.subtract(array1, array2)\n",
    "exploit = list(subtracted_array)\n",
    "\n",
    "fn.plot(exploit, title='Exploitation per episode')"
   ]
  },
  {
   "cell_type": "code",
   "execution_count": null,
   "metadata": {
    "scrolled": false
   },
   "outputs": [],
   "source": [
    "fn.display_qTable(sw.Q, gen_file=True, show=False)"
   ]
  },
  {
   "cell_type": "code",
   "execution_count": null,
   "metadata": {},
   "outputs": [],
   "source": [
    "# Show map convergence\n",
    "max_matrix = fn.gen_maxMatrix(sw.Q)\n",
    "mcm_file = 'mcm.svg'\n",
    "mSVG.gen_convergenceMap(mcm_file, max_matrix, goal_state)\n",
    "display(SVG(mcm_file))"
   ]
  },
  {
   "cell_type": "code",
   "execution_count": null,
   "metadata": {},
   "outputs": [],
   "source": [
    "# Summary Data\n",
    "main_list = []\n",
    "\n",
    "sub_list = []\n",
    "title = f'Hyperparameter'\n",
    "sub_list.append(title)\n",
    "\n",
    "hyparam = []\n",
    "hyparam.append(['Maze configuration file', mazeConfig_file])\n",
    "hyparam.append(['Total episode', total_episode])\n",
    "hyparam.append(['Maximum step', max_step])\n",
    "hyparam.append(['Learning rate', alpha])\n",
    "hyparam.append(['Discount factor', gamma])\n",
    "hyparam.append(['Epsilon', epsilon])\n",
    "hyparam.append(['Goal state', goal_state])\n",
    "sub_list.append(hyparam)\n",
    "\n",
    "main_list.append(sub_list)\n",
    "\n",
    "sub_list = []\n",
    "title = f'Results'\n",
    "sub_list.append(title)\n",
    "\n",
    "hyparam = []\n",
    "hyparam.append(['Possible start state', startState_list])\n",
    "hyparam.append(['Learning time (s)', exec_time])\n",
    "hyparam.append(['Shortest path test', f'{pass_count}/{len(records)}'])\n",
    "sub_list.append(hyparam)\n",
    "    \n",
    "main_list.append(sub_list)"
   ]
  },
  {
   "cell_type": "code",
   "execution_count": null,
   "metadata": {
    "scrolled": true
   },
   "outputs": [],
   "source": [
    "main_list"
   ]
  },
  {
   "cell_type": "code",
   "execution_count": null,
   "metadata": {},
   "outputs": [],
   "source": [
    "fn.write_result_summary('temp/test.txt', main_list, quiet = False)"
   ]
  },
  {
   "cell_type": "code",
   "execution_count": null,
   "metadata": {},
   "outputs": [],
   "source": [
    "# Define Mode\n",
    "# run_mode = 'set'\n",
    "run_mode = 'idv'"
   ]
  },
  {
   "cell_type": "code",
   "execution_count": 4,
   "metadata": {},
   "outputs": [
    {
     "data": {
      "text/plain": [
       "'.\\\\results'"
      ]
     },
     "execution_count": 4,
     "metadata": {},
     "output_type": "execute_result"
    }
   ],
   "source": [
    "result_path"
   ]
  },
  {
   "cell_type": "code",
   "execution_count": 5,
   "metadata": {
    "scrolled": false
   },
   "outputs": [
    {
     "name": "stdout",
     "output_type": "stream",
     "text": [
      "UPDATING .\\results\\idv_runs\n",
      "CREATING .\\results\\idv_runs\\221207_idv1\n",
      "CREATING .\\results\\idv_runs\\221207_idv1\\raw_data\n",
      "CREATING .\\results\\idv_runs\\221207_idv1\\shortest_path_test\n",
      "CREATING .\\results\\idv_runs\\221207_idv1\\qMatrix_change\n",
      ".\\results\\idv_runs\\221207_idv1\n"
     ]
    }
   ],
   "source": [
    "# save_dir = fn.gen_idv_folder(result_path, run_mode, status = True)\n",
    "save_dir = fn.gen_save_dir(result_path, 1, status = True)\n",
    "print(save_dir)"
   ]
  },
  {
   "cell_type": "code",
   "execution_count": 6,
   "metadata": {},
   "outputs": [
    {
     "name": "stdout",
     "output_type": "stream",
     "text": [
      "UPDATING .\\results\\set_runs\n",
      "CREATING .\\results\\set_runs\\221207_set2\n",
      "CREATING .\\results\\set_runs\\221207_set2\\maze_0\n",
      "CREATING .\\results\\set_runs\\221207_set2\\maze_0\\raw_data\n",
      "CREATING .\\results\\set_runs\\221207_set2\\maze_0\\shortest_path_test\n",
      "CREATING .\\results\\set_runs\\221207_set2\\maze_0\\qMatrix_change\n",
      "CREATING .\\results\\set_runs\\221207_set2\\maze_1\n",
      "CREATING .\\results\\set_runs\\221207_set2\\maze_1\\raw_data\n",
      "CREATING .\\results\\set_runs\\221207_set2\\maze_1\\shortest_path_test\n",
      "CREATING .\\results\\set_runs\\221207_set2\\maze_1\\qMatrix_change\n",
      "CREATING .\\results\\set_runs\\221207_set2\\maze_2\n",
      "CREATING .\\results\\set_runs\\221207_set2\\maze_2\\raw_data\n",
      "CREATING .\\results\\set_runs\\221207_set2\\maze_2\\shortest_path_test\n",
      "CREATING .\\results\\set_runs\\221207_set2\\maze_2\\qMatrix_change\n",
      ".\\results\\set_runs\\221207_set2\n"
     ]
    }
   ],
   "source": [
    "save_dir = fn.gen_save_dir(result_path, 3, status = True)\n",
    "print(save_dir)"
   ]
  },
  {
   "cell_type": "code",
   "execution_count": null,
   "metadata": {},
   "outputs": [],
   "source": [
    "# # Create experiment subdirectory\n",
    "# save_folder = f'{current_date}_{experiment_name}' \n",
    "# save_path = os.path.join(result_path, save_folder)\n",
    "# if os.path.isdir(save_path):\n",
    "#     print(f'UPDATING {save_folder}')\n",
    "# else:\n",
    "#     print(f'CREATING {save_folder}')\n",
    "#     os.mkdir(save_path)\n",
    "\n",
    "# # Create case subdirectory\n",
    "# mazeConfig_name = os.path.splitext(mazeConfig_file)[0]\n",
    "# config_folder = f\"{mazeConfig_name}_S{start_state:03}G{goal_state:03}\"    \n",
    "# config_path = os.path.join(save_path, config_folder)\n",
    "# if os.path.isdir(config_path):\n",
    "#     print(f'\\tUPDATING {config_folder}')\n",
    "# else:\n",
    "#     print(f'\\tCREATING {config_folder}')\n",
    "#     os.mkdir(config_path)\n",
    "\n",
    "# # Create run subdirectory\n",
    "# duplicate = 0\n",
    "# run_folder = f\"run_{duplicate}\"\n",
    "# run_path = os.path.join(config_path, run_folder)\n",
    "# while (os.path.isdir(run_path)):\n",
    "#     print(f'\\t\\t{run_folder} already exist.')\n",
    "#     duplicate = duplicate + 1\n",
    "#     run_folder = f\"run_{duplicate}\"\n",
    "#     run_path = os.path.join(config_path, run_folder)\n",
    "# if os.path.isdir(run_path)==False:\n",
    "#     os.mkdir(run_path)\n",
    "#     print(f'\\t\\tCREATING {run_folder}')\n",
    "\n",
    "# # Save Error Rate\n",
    "# filename = f'error_rate.txt'\n",
    "# f = open(os.path.join(run_path, filename),\"w\")\n",
    "# text = f''\n",
    "# for i in range(data_variation):\n",
    "#     text += f'{fraction_bit[i]:02}, {error_rate[i]}\\n'\n",
    "# f.write(text)\n",
    "# f.close()\n",
    "# print(\"\\t\\tCreated \"+filename)\n",
    "\n",
    "# # Save Software Results\n",
    "# sw_files = \"sw_results\"\n",
    "# print(f'\\t\\tCREATING {sw_files}')\n",
    "# sw_path = os.path.join(run_path, sw_files)\n",
    "# os.mkdir(sw_path)\n",
    "# # Save SW Arrays\n",
    "# filename = f'sw_qtable.csv'\n",
    "# target_path = os.path.join(sw_path, filename)\n",
    "# np.savetxt(target_path, sw_qTable, delimiter=\",\")\n",
    "# print(\"\\t\\t>> Created \"+filename)\n",
    "\n",
    "# filename = f'sw_cr.csv'\n",
    "# target_path = os.path.join(sw_path, filename)\n",
    "# np.savetxt(target_path, sw_cr, delimiter=\",\")\n",
    "# print(\"\\t\\t>> Created \"+filename)\n",
    "\n",
    "# filename = f'sw_steps.csv'\n",
    "# target_path = os.path.join(sw_path, filename)\n",
    "# np.savetxt(target_path, sw_steps, delimiter=\",\")\n",
    "# print(\"\\t\\t>> Created \"+filename)\n",
    "\n",
    "# filename = f'sw_exploit.csv'\n",
    "# target_path = os.path.join(sw_path, filename)\n",
    "# np.savetxt(target_path, sw_exploit, delimiter=\",\")\n",
    "# print(\"\\t\\t>> Created \"+filename)\n",
    "\n",
    "# filename = f'sw_explore.csv'\n",
    "# target_path = os.path.join(sw_path, filename)\n",
    "# np.savetxt(target_path, sw_explore, delimiter=\",\")\n",
    "# print(\"\\t\\t>> Created \"+filename)\n",
    "\n",
    "# # Save Hardware Results\n",
    "# hw_files = \"hw_results\"\n",
    "# hw_path = os.path.join(run_path, hw_files)\n",
    "# os.mkdir(hw_path)\n",
    "# print(f'\\t\\tCREATING {hw_files}')\n",
    "# for i in range(data_variation):\n",
    "#     sub_file = f\"{fraction_bit[i]:02}frac\"\n",
    "#     sub_path = os.path.join(hw_path, sub_file)\n",
    "#     os.mkdir(sub_path)\n",
    "#     print(f'\\t\\t\\tCREATING {sub_file}')\n",
    "    \n",
    "#     # Save HW Arrays\n",
    "#     filename = \"hw_qtable.csv\"\n",
    "#     target_path = os.path.join(sub_path, filename)\n",
    "#     np.savetxt(target_path, hw_qTable[i], delimiter=\",\")\n",
    "#     print(\"\\t\\t\\t>> Created \"+filename)\n",
    "    \n",
    "#     filename = \"hw_cr.csv\"\n",
    "#     target_path = os.path.join(sub_path, filename)\n",
    "#     np.savetxt(target_path, hw_cr[i], delimiter=\",\")\n",
    "#     print(\"\\t\\t\\t>> Created \"+filename)\n",
    "    \n",
    "#     filename = \"hw_steps.csv\"\n",
    "#     target_path = os.path.join(sub_path, filename)\n",
    "#     np.savetxt(target_path, hw_steps[i], delimiter=\",\")\n",
    "#     print(\"\\t\\t\\t>> Created \"+filename)\n",
    "    \n",
    "#     filename = \"hw_exploit.csv\"\n",
    "#     target_path = os.path.join(sub_path, filename)\n",
    "#     np.savetxt(target_path, hw_exploit[i], delimiter=\",\")\n",
    "#     print(\"\\t\\t\\t>> Created \"+filename)\n",
    "    \n",
    "#     filename = \"hw_explore.csv\"\n",
    "#     target_path = os.path.join(sub_path, filename)\n",
    "#     np.savetxt(target_path, hw_explore[i], delimiter=\",\")\n",
    "#     print(\"\\t\\t\\t>> Created \"+filename)\n",
    "\n",
    "#     # Save non array metrics in one file\n",
    "#     filename = \"summary.txt\"\n",
    "#     print(\"\\t\\t\\t>> Created \"+filename)\n",
    "\n",
    "#     ## Open file to write\n",
    "#     f = open(os.path.join(sub_path, filename),\"w\")\n",
    "\n",
    "#     ## Construct Contents\n",
    "#     text = f\"\"\n",
    "#     text += f\"Maze Dimension = {maze_x}x{maze_y}\\n\"\n",
    "#     text += f\"Maze Config = {maze_config}\\n\"\n",
    "#     text += f\"Maze Goal = {goal_state:03}\\n\"\n",
    "#     text += f\"Learning Episodes = {total_episode}\\n\"\n",
    "#     text += f\"Learning Rate (α) = {alpha_val}\\n\"\n",
    "#     text += f\"Discount Factor (γ) = {gamma_val}\\n\"\n",
    "#     text += f\"Epsilon (ε) = {epsilon_val}\\n\"\n",
    "#     text += f\"Fraction Bit = {fraction_bit[i]} \\n\"\n",
    "#     text += f\"Total clock cycles = {hw_learnCC[i]}\\n\"\n",
    "#     text += f\"Number of Q writes = {hw_nWrite[i]}\\n\"\n",
    "#     text += f\"PL Clock Freq. (MHz) = {hw_fclk[i]}\\n\"\n",
    "#     text += f\"Throughput (MSps) = {hw_throughput[i]/1e6}\\n\"\n",
    "#     text += f\"Software Learning Time (s) = {sw_trueLearnTime}\\n\"\n",
    "#     text += f\"Hardware Learning Time (ms) = {hw_learnTime[i]*1e3}\\n\"\n",
    "#     text += f\"True Hardware Learning Time (ms) = {hw_trueLearnTime[i]*1e3}\\n\"\n",
    "#     text += f\"PS-PL Communication Delay (ms) = {hw_PSPLDelay[i]*1e3}\\n\"\n",
    "#     text += f\"Error Rate (%)= {error_rate[i]}\\n\"\n",
    "\n",
    "#     ## Save to file and print contents\n",
    "#     f.write(text)\n",
    "\n",
    "#     ## Close file\n",
    "#     f.close()"
   ]
  },
  {
   "cell_type": "markdown",
   "metadata": {},
   "source": [
    "## "
   ]
  }
 ],
 "metadata": {
  "kernelspec": {
   "display_name": "Python 3 (ipykernel)",
   "language": "python",
   "name": "python3"
  },
  "language_info": {
   "codemirror_mode": {
    "name": "ipython",
    "version": 3
   },
   "file_extension": ".py",
   "mimetype": "text/x-python",
   "name": "python",
   "nbconvert_exporter": "python",
   "pygments_lexer": "ipython3",
   "version": "3.10.0"
  },
  "vscode": {
   "interpreter": {
    "hash": "cfbecc6b7b02738b8f46f7104a81cce25d19a20dda612d7992deb4b3b8dee98d"
   }
  }
 },
 "nbformat": 4,
 "nbformat_minor": 2
}
