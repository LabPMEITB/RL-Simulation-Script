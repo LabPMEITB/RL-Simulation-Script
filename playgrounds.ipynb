{
 "cells": [
  {
   "cell_type": "code",
   "execution_count": 1,
   "id": "2953e554",
   "metadata": {},
   "outputs": [],
   "source": [
    "import os\n",
    "import numpy as np\n",
    "from IPython.display import SVG\n",
    "from lib import support as fn\n",
    "from lib import mazeSVG"
   ]
  },
  {
   "cell_type": "code",
   "execution_count": 2,
   "id": "ab54c8c9",
   "metadata": {},
   "outputs": [
    {
     "name": "stdout",
     "output_type": "stream",
     "text": [
      "File 'maze_config' exist in '/home/amri/Documents/GitHub/RL_Sim'\n",
      "8 maze cofing file(s) detected.\n",
      "1) 22083010X10c4.txt\n",
      "2) 22100605X05c0.txt\n",
      "3) 22100605X05c1.txt\n",
      "4) 22100605X05c2.txt\n",
      "5) 22100605X05c3.txt\n",
      "6) 22100605X05c4.txt\n",
      "7) 22113040X40c0.txt\n",
      "8) 22113040X40c1.txt\n",
      "\n",
      "Input Select Index (1-8) : 2\n",
      "\n",
      "Selected '22100605X05c0.txt'\n",
      "Loading 22100605X05c0.txt...\n",
      "\tFile consists of 53 lines of data.\n",
      "\tMaze size loaded. 5X5 (25 states)\n",
      "\tNumber of action loaded. There are 4 actions\n",
      "\tNext State list loaded.\n",
      "\tCurrent Reward list loaded.\n",
      "Finish loading 22100605X05c0.txt\n"
     ]
    },
    {
     "ename": "NameError",
     "evalue": "name 'add_commentLine' is not defined",
     "output_type": "error",
     "traceback": [
      "\u001b[0;31m---------------------------------------------------------------------------\u001b[0m",
      "\u001b[0;31mNameError\u001b[0m                                 Traceback (most recent call last)",
      "\u001b[0;32m/tmp/ipykernel_16837/2345476758.py\u001b[0m in \u001b[0;36m<module>\u001b[0;34m\u001b[0m\n\u001b[1;32m     25\u001b[0m \u001b[0;34m\u001b[0m\u001b[0m\n\u001b[1;32m     26\u001b[0m \u001b[0mmSVG\u001b[0m \u001b[0;34m=\u001b[0m \u001b[0mmazeSVG\u001b[0m\u001b[0;34m.\u001b[0m\u001b[0mdrawMaze\u001b[0m\u001b[0;34m(\u001b[0m\u001b[0mmaze_x\u001b[0m\u001b[0;34m,\u001b[0m \u001b[0mmaze_y\u001b[0m\u001b[0;34m,\u001b[0m \u001b[0mscale\u001b[0m\u001b[0;34m,\u001b[0m \u001b[0mns_list\u001b[0m\u001b[0;34m)\u001b[0m\u001b[0;34m\u001b[0m\u001b[0;34m\u001b[0m\u001b[0m\n\u001b[0;32m---> 27\u001b[0;31m \u001b[0mmSVG\u001b[0m\u001b[0;34m.\u001b[0m\u001b[0mgen_maze\u001b[0m\u001b[0;34m(\u001b[0m\u001b[0mmaze_svg\u001b[0m\u001b[0;34m)\u001b[0m\u001b[0;34m\u001b[0m\u001b[0;34m\u001b[0m\u001b[0m\n\u001b[0m\u001b[1;32m     28\u001b[0m \u001b[0mdisplay\u001b[0m\u001b[0;34m(\u001b[0m\u001b[0mSVG\u001b[0m\u001b[0;34m(\u001b[0m\u001b[0mmaze_svg\u001b[0m\u001b[0;34m)\u001b[0m\u001b[0;34m)\u001b[0m\u001b[0;34m\u001b[0m\u001b[0;34m\u001b[0m\u001b[0m\n",
      "\u001b[0;32m~/Documents/GitHub/RL_Sim/lib/mazeSVG.py\u001b[0m in \u001b[0;36mgen_maze\u001b[0;34m(self, filename)\u001b[0m\n\u001b[1;32m     72\u001b[0m \u001b[0;34m\u001b[0m\u001b[0m\n\u001b[1;32m     73\u001b[0m             \u001b[0;31m# Draw layout square\u001b[0m\u001b[0;34m\u001b[0m\u001b[0;34m\u001b[0m\u001b[0m\n\u001b[0;32m---> 74\u001b[0;31m             \u001b[0madd_commentLine\u001b[0m\u001b[0;34m(\u001b[0m\u001b[0;34m'Add Grid Layout'\u001b[0m\u001b[0;34m)\u001b[0m\u001b[0;34m\u001b[0m\u001b[0;34m\u001b[0m\u001b[0m\n\u001b[0m\u001b[1;32m     75\u001b[0m             \u001b[0;31m# print('Add initial layout square')\u001b[0m\u001b[0;34m\u001b[0m\u001b[0;34m\u001b[0m\u001b[0m\n\u001b[1;32m     76\u001b[0m             \u001b[0;31m# for x in range(maze_x):\u001b[0m\u001b[0;34m\u001b[0m\u001b[0;34m\u001b[0m\u001b[0m\n",
      "\u001b[0;31mNameError\u001b[0m: name 'add_commentLine' is not defined"
     ]
    }
   ],
   "source": [
    "# ---------- Load Maze Config ---------- #\n",
    "## Target maze config file\n",
    "config_file = 'maze_config'\n",
    "current_dir = os.getcwd()\n",
    "config_path = fn.gen_path(current_dir, config_file)\n",
    "\n",
    "## Select maze config file\n",
    "mazeConfig_file = fn.select_maze(config_path)\n",
    "\n",
    "\n",
    "## Read maze config file\n",
    "maze_config = fn.load_mazeConfig(config_path, mazeConfig_file)\n",
    "\n",
    "## Pass content of maze_config\n",
    "maze_x = maze_config[0]\n",
    "maze_y = maze_config[1]\n",
    "total_state = maze_config[2]\n",
    "total_act = maze_config[3]\n",
    "ns_list = maze_config[4]\n",
    "rt_list = maze_config[5]\n",
    "\n",
    "## Display Maze\n",
    "scale = 50*maze_x\n",
    "maze_svg = 'current_maze.svg'\n",
    "\n",
    "mSVG = mazeSVG.drawMaze(maze_x, maze_y, scale, ns_list)\n",
    "mSVG.gen_maze(maze_svg)\n",
    "display(SVG(maze_svg))"
   ]
  },
  {
   "cell_type": "code",
   "execution_count": null,
   "id": "ee742bd0",
   "metadata": {},
   "outputs": [],
   "source": []
  }
 ],
 "metadata": {
  "kernelspec": {
   "display_name": "Python 3 (ipykernel)",
   "language": "python",
   "name": "python3"
  },
  "language_info": {
   "codemirror_mode": {
    "name": "ipython",
    "version": 3
   },
   "file_extension": ".py",
   "mimetype": "text/x-python",
   "name": "python",
   "nbconvert_exporter": "python",
   "pygments_lexer": "ipython3",
   "version": "3.9.13"
  },
  "vscode": {
   "interpreter": {
    "hash": "cfbecc6b7b02738b8f46f7104a81cce25d19a20dda612d7992deb4b3b8dee98d"
   }
  }
 },
 "nbformat": 4,
 "nbformat_minor": 5
}
