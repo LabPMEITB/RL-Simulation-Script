{
 "cells": [
  {
   "cell_type": "code",
   "execution_count": 1,
   "id": "2953e554",
   "metadata": {},
   "outputs": [],
   "source": [
    "import os\n",
    "import numpy as np\n",
    "from IPython.display import SVG\n",
    "from lib import support as fn\n",
    "from lib import mazeSVG"
   ]
  },
  {
   "cell_type": "code",
   "execution_count": 2,
   "id": "1f5b16b8",
   "metadata": {},
   "outputs": [
    {
     "name": "stdout",
     "output_type": "stream",
     "text": [
      "File 'maze_config' exist in 'D:\\PME_ITB\\softwares\\RL_Sim'\n",
      "8 maze cofing file(s) detected.\n",
      "1) 22083010X10c4.txt\n",
      "2) 22100605X05c0.txt\n",
      "3) 22100605X05c1.txt\n",
      "4) 22100605X05c2.txt\n",
      "5) 22100605X05c3.txt\n",
      "6) 22100605X05c4.txt\n",
      "7) 22113040X40c0.txt\n",
      "8) 22113040X40c1.txt\n",
      "\n",
      "Input Select Index (1-8) : 2\n",
      "\n",
      "Selected '22100605X05c0.txt'\n",
      "Loading 22100605X05c0.txt...\n",
      "\tFile consists of 53 lines of data.\n",
      "\tMaze size loaded. 5X5 (25 states)\n",
      "\tNumber of action loaded. There are 4 actions\n",
      "\tNext State list loaded.\n",
      "\tCurrent Reward list loaded.\n",
      "Finish loading 22100605X05c0.txt\n",
      "Add initial layout square\n"
     ]
    },
    {
     "ename": "AttributeError",
     "evalue": "'str' object has no attribute 'write'",
     "output_type": "error",
     "traceback": [
      "\u001b[1;31m---------------------------------------------------------------------------\u001b[0m",
      "\u001b[1;31mAttributeError\u001b[0m                            Traceback (most recent call last)",
      "\u001b[1;32m~\\AppData\\Local\\Temp/ipykernel_18916/574795857.py\u001b[0m in \u001b[0;36m<module>\u001b[1;34m\u001b[0m\n\u001b[0;32m     25\u001b[0m \u001b[1;33m\u001b[0m\u001b[0m\n\u001b[0;32m     26\u001b[0m \u001b[0mmSVG\u001b[0m \u001b[1;33m=\u001b[0m \u001b[0mmazeSVG\u001b[0m\u001b[1;33m.\u001b[0m\u001b[0mdrawMaze\u001b[0m\u001b[1;33m(\u001b[0m\u001b[0mmaze_x\u001b[0m\u001b[1;33m,\u001b[0m \u001b[0mmaze_y\u001b[0m\u001b[1;33m,\u001b[0m \u001b[0mscale\u001b[0m\u001b[1;33m,\u001b[0m \u001b[0mns_list\u001b[0m\u001b[1;33m)\u001b[0m\u001b[1;33m\u001b[0m\u001b[1;33m\u001b[0m\u001b[0m\n\u001b[1;32m---> 27\u001b[1;33m \u001b[0mmSVG\u001b[0m\u001b[1;33m.\u001b[0m\u001b[0mgen_svg\u001b[0m\u001b[1;33m(\u001b[0m\u001b[0mblank_maze\u001b[0m\u001b[1;33m)\u001b[0m\u001b[1;33m\u001b[0m\u001b[1;33m\u001b[0m\u001b[0m\n\u001b[0m\u001b[0;32m     28\u001b[0m \u001b[0mdisplay\u001b[0m\u001b[1;33m(\u001b[0m\u001b[0mSVG\u001b[0m\u001b[1;33m(\u001b[0m\u001b[0mblank_maze\u001b[0m\u001b[1;33m)\u001b[0m\u001b[1;33m)\u001b[0m\u001b[1;33m\u001b[0m\u001b[1;33m\u001b[0m\u001b[0m\n",
      "\u001b[1;32mD:\\PME_ITB\\softwares\\RL_Sim\\lib\\mazeSVG.py\u001b[0m in \u001b[0;36mgen_svg\u001b[1;34m(self, filename, path)\u001b[0m\n\u001b[0;32m    159\u001b[0m \u001b[1;33m\u001b[0m\u001b[0m\n\u001b[0;32m    160\u001b[0m             \u001b[1;31m# Draw the North and West maze border, which won't have been drawn by the procedure above.\u001b[0m\u001b[1;33m\u001b[0m\u001b[1;33m\u001b[0m\u001b[0m\n\u001b[1;32m--> 161\u001b[1;33m             \u001b[0mself\u001b[0m\u001b[1;33m.\u001b[0m\u001b[0madd_comment\u001b[0m\u001b[1;33m(\u001b[0m\u001b[1;34m'Add the north and west maze border'\u001b[0m\u001b[1;33m,\u001b[0m \u001b[0mf\u001b[0m\u001b[1;33m)\u001b[0m\u001b[1;33m\u001b[0m\u001b[1;33m\u001b[0m\u001b[0m\n\u001b[0m\u001b[0;32m    162\u001b[0m             \u001b[0mprint\u001b[0m\u001b[1;33m(\u001b[0m\u001b[1;34m'<line x1=\"0\" y1=\"0\" x2=\"{}\" y2=\"0\"/>'\u001b[0m\u001b[1;33m.\u001b[0m\u001b[0mformat\u001b[0m\u001b[1;33m(\u001b[0m\u001b[0mself\u001b[0m\u001b[1;33m.\u001b[0m\u001b[0mwidth\u001b[0m\u001b[1;33m)\u001b[0m\u001b[1;33m,\u001b[0m \u001b[0mfile\u001b[0m\u001b[1;33m=\u001b[0m\u001b[0mf\u001b[0m\u001b[1;33m)\u001b[0m\u001b[1;33m\u001b[0m\u001b[1;33m\u001b[0m\u001b[0m\n\u001b[0;32m    163\u001b[0m             \u001b[0mprint\u001b[0m\u001b[1;33m(\u001b[0m\u001b[1;34m'<line x1=\"0\" y1=\"0\" x2=\"0\" y2=\"{}\"/>'\u001b[0m\u001b[1;33m.\u001b[0m\u001b[0mformat\u001b[0m\u001b[1;33m(\u001b[0m\u001b[0mself\u001b[0m\u001b[1;33m.\u001b[0m\u001b[0mheight\u001b[0m\u001b[1;33m)\u001b[0m\u001b[1;33m,\u001b[0m \u001b[0mfile\u001b[0m\u001b[1;33m=\u001b[0m\u001b[0mf\u001b[0m\u001b[1;33m)\u001b[0m\u001b[1;33m\u001b[0m\u001b[1;33m\u001b[0m\u001b[0m\n",
      "\u001b[1;32mD:\\PME_ITB\\softwares\\RL_Sim\\lib\\mazeSVG.py\u001b[0m in \u001b[0;36madd_comment\u001b[1;34m(self, file, comment)\u001b[0m\n\u001b[0;32m     27\u001b[0m     \u001b[1;32mdef\u001b[0m \u001b[0madd_comment\u001b[0m\u001b[1;33m(\u001b[0m\u001b[0mself\u001b[0m\u001b[1;33m,\u001b[0m \u001b[0mfile\u001b[0m\u001b[1;33m,\u001b[0m \u001b[0mcomment\u001b[0m\u001b[1;33m)\u001b[0m\u001b[1;33m:\u001b[0m\u001b[1;33m\u001b[0m\u001b[1;33m\u001b[0m\u001b[0m\n\u001b[0;32m     28\u001b[0m         \u001b[1;34m\"\"\"Function to add comment inside SVG file wall.\"\"\"\u001b[0m\u001b[1;33m\u001b[0m\u001b[1;33m\u001b[0m\u001b[0m\n\u001b[1;32m---> 29\u001b[1;33m         \u001b[0mprint\u001b[0m\u001b[1;33m(\u001b[0m\u001b[1;34mf'<!--{comment}-->'\u001b[0m\u001b[1;33m,\u001b[0m\u001b[0mfile\u001b[0m\u001b[1;33m=\u001b[0m\u001b[0mfile\u001b[0m\u001b[1;33m)\u001b[0m\u001b[1;33m\u001b[0m\u001b[1;33m\u001b[0m\u001b[0m\n\u001b[0m\u001b[0;32m     30\u001b[0m \u001b[1;33m\u001b[0m\u001b[0m\n\u001b[0;32m     31\u001b[0m     \u001b[1;32mdef\u001b[0m \u001b[0madd_grid\u001b[0m\u001b[1;33m(\u001b[0m\u001b[0mself\u001b[0m\u001b[1;33m,\u001b[0m \u001b[0mfile\u001b[0m\u001b[1;33m,\u001b[0m \u001b[0mx\u001b[0m\u001b[1;33m,\u001b[0m \u001b[0my\u001b[0m\u001b[1;33m,\u001b[0m \u001b[0mfill\u001b[0m\u001b[1;33m=\u001b[0m\u001b[1;34m'\"none\"'\u001b[0m\u001b[1;33m,\u001b[0m \u001b[0mstroke\u001b[0m\u001b[1;33m=\u001b[0m\u001b[1;34m'\"gray\"'\u001b[0m\u001b[1;33m,\u001b[0m \u001b[0mstroke_w\u001b[0m\u001b[1;33m=\u001b[0m\u001b[1;34m'\"1\"'\u001b[0m\u001b[1;33m)\u001b[0m\u001b[1;33m:\u001b[0m\u001b[1;33m\u001b[0m\u001b[1;33m\u001b[0m\u001b[0m\n",
      "\u001b[1;31mAttributeError\u001b[0m: 'str' object has no attribute 'write'"
     ]
    }
   ],
   "source": [
    "## ---------- Load Maze Config ---------- #\n",
    "## Target maze config file\n",
    "config_file = 'maze_config'\n",
    "current_dir = os.getcwd()\n",
    "config_path = fn.gen_path(current_dir, config_file)\n",
    "\n",
    "## Select maze config file\n",
    "mazeConfig_file = fn.select_maze(config_path)\n",
    "\n",
    "\n",
    "## Read maze config file\n",
    "maze_config = fn.load_mazeConfig(config_path, mazeConfig_file)\n",
    "\n",
    "## Pass content of maze_config\n",
    "maze_x = maze_config[0]\n",
    "maze_y = maze_config[1]\n",
    "total_state = maze_config[2]\n",
    "total_act = maze_config[3]\n",
    "ns_list = maze_config[4]\n",
    "rt_list = maze_config[5]\n",
    "\n",
    "## Display Maze\n",
    "scale = 50*maze_x\n",
    "blank_maze = 'current_maze.svg'\n",
    "mSVG = mazeSVG.drawMaze(maze_x, maze_y, scale, ns_list)\n",
    "mSVG.gen_svg(blank_maze)\n",
    "display(SVG(blank_maze))"
   ]
  },
  {
   "cell_type": "code",
   "execution_count": null,
   "id": "2a2b06f1",
   "metadata": {},
   "outputs": [],
   "source": []
  }
 ],
 "metadata": {
  "kernelspec": {
   "display_name": "Python 3 (ipykernel)",
   "language": "python",
   "name": "python3"
  },
  "language_info": {
   "codemirror_mode": {
    "name": "ipython",
    "version": 3
   },
   "file_extension": ".py",
   "mimetype": "text/x-python",
   "name": "python",
   "nbconvert_exporter": "python",
   "pygments_lexer": "ipython3",
   "version": "3.10.0"
  },
  "vscode": {
   "interpreter": {
    "hash": "cfbecc6b7b02738b8f46f7104a81cce25d19a20dda612d7992deb4b3b8dee98d"
   }
  }
 },
 "nbformat": 4,
 "nbformat_minor": 5
}
