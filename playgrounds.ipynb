{
 "cells": [
  {
   "cell_type": "code",
   "execution_count": 9,
   "id": "2953e554",
   "metadata": {},
   "outputs": [],
   "source": [
    "import os\n",
    "import numpy as np\n",
    "from IPython.display import SVG\n",
    "from lib import support as fn\n",
    "from lib import mazeSVG"
   ]
  },
  {
   "cell_type": "code",
   "execution_count": null,
   "id": "9dfba2f7",
   "metadata": {},
   "outputs": [],
   "source": []
  },
  {
   "cell_type": "code",
   "execution_count": 35,
   "id": "18db0835",
   "metadata": {},
   "outputs": [],
   "source": [
    "n_title = 5\n",
    "n_data = 5\n",
    "\n",
    "main_list = []\n",
    "\n",
    "for i in range(n_title):\n",
    "    sub_list = []\n",
    "    sub_list.append(f'title{i}')\n",
    "    subsub_list = []\n",
    "    for j in range(n_data):\n",
    "        line = f'subtitle{j}',f'data{j}'\n",
    "        subsub_list.append(line)\n",
    "    sub_list.append(subsub_list)\n",
    "    main_list.append(sub_list)"
   ]
  },
  {
   "cell_type": "code",
   "execution_count": 36,
   "id": "d9ccc845",
   "metadata": {},
   "outputs": [
    {
     "data": {
      "text/plain": [
       "[['title0',\n",
       "  [('subtitle0', 'data0'),\n",
       "   ('subtitle1', 'data1'),\n",
       "   ('subtitle2', 'data2'),\n",
       "   ('subtitle3', 'data3'),\n",
       "   ('subtitle4', 'data4')]],\n",
       " ['title1',\n",
       "  [('subtitle0', 'data0'),\n",
       "   ('subtitle1', 'data1'),\n",
       "   ('subtitle2', 'data2'),\n",
       "   ('subtitle3', 'data3'),\n",
       "   ('subtitle4', 'data4')]],\n",
       " ['title2',\n",
       "  [('subtitle0', 'data0'),\n",
       "   ('subtitle1', 'data1'),\n",
       "   ('subtitle2', 'data2'),\n",
       "   ('subtitle3', 'data3'),\n",
       "   ('subtitle4', 'data4')]],\n",
       " ['title3',\n",
       "  [('subtitle0', 'data0'),\n",
       "   ('subtitle1', 'data1'),\n",
       "   ('subtitle2', 'data2'),\n",
       "   ('subtitle3', 'data3'),\n",
       "   ('subtitle4', 'data4')]],\n",
       " ['title4',\n",
       "  [('subtitle0', 'data0'),\n",
       "   ('subtitle1', 'data1'),\n",
       "   ('subtitle2', 'data2'),\n",
       "   ('subtitle3', 'data3'),\n",
       "   ('subtitle4', 'data4')]]]"
      ]
     },
     "execution_count": 36,
     "metadata": {},
     "output_type": "execute_result"
    }
   ],
   "source": [
    "main_list"
   ]
  },
  {
   "cell_type": "code",
   "execution_count": 37,
   "id": "0ed96c9a",
   "metadata": {},
   "outputs": [
    {
     "name": "stdout",
     "output_type": "stream",
     "text": [
      "[title0]\n",
      "subtitle0 = data0\n",
      "subtitle1 = data1\n",
      "subtitle2 = data2\n",
      "subtitle3 = data3\n",
      "subtitle4 = data4\n",
      "[title1]\n",
      "subtitle0 = data0\n",
      "subtitle1 = data1\n",
      "subtitle2 = data2\n",
      "subtitle3 = data3\n",
      "subtitle4 = data4\n",
      "[title2]\n",
      "subtitle0 = data0\n",
      "subtitle1 = data1\n",
      "subtitle2 = data2\n",
      "subtitle3 = data3\n",
      "subtitle4 = data4\n",
      "[title3]\n",
      "subtitle0 = data0\n",
      "subtitle1 = data1\n",
      "subtitle2 = data2\n",
      "subtitle3 = data3\n",
      "subtitle4 = data4\n",
      "[title4]\n",
      "subtitle0 = data0\n",
      "subtitle1 = data1\n",
      "subtitle2 = data2\n",
      "subtitle3 = data3\n",
      "subtitle4 = data4\n"
     ]
    }
   ],
   "source": [
    "for item in main_list:\n",
    "    print(f\"[{item[0]}]\")\n",
    "    for dat in item[1]:\n",
    "        print(f\"{dat[0]} = {dat[1]}\")"
   ]
  },
  {
   "cell_type": "code",
   "execution_count": 38,
   "id": "77778781",
   "metadata": {},
   "outputs": [
    {
     "name": "stdout",
     "output_type": "stream",
     "text": [
      "File \"test.txt generated.\n"
     ]
    }
   ],
   "source": [
    "fn.write_result_summary('test.txt', main_list, quiet = False)"
   ]
  },
  {
   "cell_type": "code",
   "execution_count": 39,
   "id": "3dc2a1e8",
   "metadata": {},
   "outputs": [
    {
     "name": "stdout",
     "output_type": "stream",
     "text": [
      "File \"test.txt generated.\n"
     ]
    }
   ],
   "source": [
    "fn.write_result_summary('test.txt', main_list, target_dir = 'lib',quiet = False)"
   ]
  },
  {
   "cell_type": "code",
   "execution_count": null,
   "id": "390b7573",
   "metadata": {},
   "outputs": [],
   "source": []
  }
 ],
 "metadata": {
  "kernelspec": {
   "display_name": "Python 3 (ipykernel)",
   "language": "python",
   "name": "python3"
  },
  "language_info": {
   "codemirror_mode": {
    "name": "ipython",
    "version": 3
   },
   "file_extension": ".py",
   "mimetype": "text/x-python",
   "name": "python",
   "nbconvert_exporter": "python",
   "pygments_lexer": "ipython3",
   "version": "3.10.0"
  },
  "vscode": {
   "interpreter": {
    "hash": "cfbecc6b7b02738b8f46f7104a81cce25d19a20dda612d7992deb4b3b8dee98d"
   }
  }
 },
 "nbformat": 4,
 "nbformat_minor": 5
}
